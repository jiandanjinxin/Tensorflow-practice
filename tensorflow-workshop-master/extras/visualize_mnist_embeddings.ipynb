{
 "cells": [
  {
   "cell_type": "markdown",
   "metadata": {},
   "source": [
    "This notebook contains code to visualize a learned embedding using TensorBoard. The result is extremely cool. After you've run the notebook, open up TensorBoard and head to the 'embeddings' tab. Then, use T-SNE. \n",
    "\n",
    "For convenience, we've provided a sprite containing images for this dataset inside the *data* directory. If you'd like to create your own sprite, see the *extras* folder for an example."
   ]
  },
  {
   "cell_type": "code",
   "execution_count": null,
   "metadata": {
    "collapsed": true
   },
   "outputs": [],
   "source": [
    "import os\n",
    "import tensorflow as tf"
   ]
  },
  {
   "cell_type": "code",
   "execution_count": null,
   "metadata": {
    "collapsed": true
   },
   "outputs": [],
   "source": [
    "LOGDIR = './graphs'\n",
    "# Remeber to clear LOGDIR before running this script.\n",
    "# For convenience, you can uncomment the following two lines\n",
    "# to delete LOGDIR. Please be *careful*, as this will delete \n",
    "# the directory tree!\n",
    "# import shutil\n",
    "# if os.path.exists(LOGDIR): shutil.rmtree(LOGDIR)"
   ]
  },
  {
   "cell_type": "code",
   "execution_count": null,
   "metadata": {
    "collapsed": true
   },
   "outputs": [],
   "source": [
    "tf.reset_default_graph()\n",
    "sess = tf.Session()"
   ]
  },
  {
   "cell_type": "code",
   "execution_count": null,
   "metadata": {
    "scrolled": true
   },
   "outputs": [],
   "source": [
    "mnist = tf.contrib.learn.datasets.mnist.read_data_sets('/tmp/data', one_hot=True)"
   ]
  },
  {
   "cell_type": "code",
   "execution_count": null,
   "metadata": {
    "collapsed": true
   },
   "outputs": [],
   "source": [
    "LEARNING_RATE = 1E-4\n",
    "HIDDEN1_SIZE = 1024\n",
    "HIDDEN2_SIZE = 1024\n",
    "NUM_CLASSES = 10\n",
    "NUM_PIXELS = 28 * 28\n",
    "TRAIN_STEPS = 2001\n",
    "BATCH_SIZE = 100"
   ]
  },
  {
   "cell_type": "code",
   "execution_count": null,
   "metadata": {
    "collapsed": true
   },
   "outputs": [],
   "source": [
    "# Function to create a fully connected layer\n",
    "def fc_layer(input, size_out, name=\"fc\", activation=None):\n",
    "    with tf.name_scope(name):\n",
    "        size_in = int(input.shape[1])\n",
    "        w = tf.Variable(tf.truncated_normal([size_in, size_out], stddev=0.1), name=\"weights\")\n",
    "        b = tf.Variable(tf.constant(0.1, shape=[size_out]), name=\"bias\")\n",
    "        wx_plus_b = tf.matmul(input, w) + b\n",
    "        if activation: return activation(wx_plus_b)\n",
    "        return wx_plus_b"
   ]
  },
  {
   "cell_type": "code",
   "execution_count": null,
   "metadata": {
    "collapsed": true
   },
   "outputs": [],
   "source": [
    "with tf.name_scope('input'):\n",
    "    images = tf.placeholder(tf.float32, [None, NUM_PIXELS], name=\"pixels\")\n",
    "    labels = tf.placeholder(tf.float32, [None, NUM_CLASSES], name=\"labels\")"
   ]
  },
  {
   "cell_type": "code",
   "execution_count": null,
   "metadata": {},
   "outputs": [],
   "source": [
    "# flatten the 28x28 images into 784 dimensional arrays\n",
    "# flattened = tf.reshape(x_image, [-1, NUM_PIXELS])\n",
    "\n",
    "fc1 = fc_layer(images, HIDDEN1_SIZE, \"fc1\", activation=tf.nn.relu)\n",
    "fc2 = fc_layer(fc1, HIDDEN2_SIZE, \"fc2\", activation=tf.nn.relu)\n",
    "logits = fc_layer(fc2, NUM_CLASSES, name=\"output\")\n",
    "\n",
    "with tf.name_scope(\"loss\"):\n",
    "    loss = tf.reduce_mean(tf.nn.softmax_cross_entropy_with_logits(logits=logits, labels=labels), name=\"loss\")\n",
    "    tf.summary.scalar(\"loss\", loss)\n",
    "\n",
    "with tf.name_scope(\"train\"):\n",
    "    train_step = tf.train.AdamOptimizer(LEARNING_RATE).minimize(loss)\n",
    "\n",
    "with tf.name_scope(\"accuracy\"):\n",
    "    correct_prediction = tf.equal(tf.argmax(logits, 1), tf.argmax(labels, 1))\n",
    "    accuracy = tf.reduce_mean(tf.cast(correct_prediction, tf.float32))\n",
    "    tf.summary.scalar(\"accuracy\", accuracy)\n",
    "\n",
    "summ = tf.summary.merge_all()\n",
    "\n",
    "# we'll use the output from the second fully connected layer as the embedding \n",
    "embedding = tf.Variable(tf.zeros([HIDDEN1_SIZE, HIDDEN2_SIZE]), name=\"test_embedding\")\n",
    "assignment = embedding.assign(fc2)\n",
    "saver = tf.train.Saver()\n",
    "\n",
    "sess.run(tf.global_variables_initializer())\n",
    "writer = tf.summary.FileWriter(LOGDIR)\n",
    "writer.add_graph(sess.graph)\n",
    "\n",
    "config = tf.contrib.tensorboard.plugins.projector.ProjectorConfig()\n",
    "embedding_config = config.embeddings.add()\n",
    "embedding_config.tensor_name = embedding.name\n",
    "\n",
    "# for convenience, we've provided these files\n",
    "# although if you wanted, you could add code to produce them yourself\n",
    "embedding_config.sprite.image_path = \"../data/sprite_1024.png\"\n",
    "embedding_config.metadata_path = \"../data/labels_1024.tsv\"\n",
    "\n",
    "# Specify the width and height of a single thumbnail.\n",
    "embedding_config.sprite.single_image_dim.extend([28, 28])\n",
    "tf.contrib.tensorboard.plugins.projector.visualize_embeddings(writer, config)\n",
    "\n",
    "for i in range(TRAIN_STEPS):\n",
    "    batch = mnist.train.next_batch(BATCH_SIZE)\n",
    "    if i % 100 == 0:\n",
    "        [train_accuracy, s] = sess.run([accuracy, summ], feed_dict={images: batch[0], labels: batch[1]})\n",
    "        writer.add_summary(s, i)\n",
    "        print (i, train_accuracy)\n",
    "    if i % 500 == 0:\n",
    "        sess.run(assignment, feed_dict={images: mnist.test.images[:1024], labels: mnist.test.labels[:1024]})\n",
    "        saver.save(sess, os.path.join(LOGDIR, \"model.ckpt\"), i)\n",
    "    sess.run(train_step, feed_dict={images: batch[0], labels: batch[1]})\n",
    "    \n",
    "writer.close()"
   ]
  }
 ],
 "metadata": {
  "kernelspec": {
   "display_name": "Python 2",
   "language": "python",
   "name": "python2"
  },
  "language_info": {
   "codemirror_mode": {
    "name": "ipython",
    "version": 2
   },
   "file_extension": ".py",
   "mimetype": "text/x-python",
   "name": "python",
   "nbconvert_exporter": "python",
   "pygments_lexer": "ipython2",
   "version": "2.7.10"
  }
 },
 "nbformat": 4,
 "nbformat_minor": 2
}
