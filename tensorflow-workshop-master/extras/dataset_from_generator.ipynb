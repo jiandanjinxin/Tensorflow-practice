{
 "cells": [
  {
   "cell_type": "markdown",
   "metadata": {},
   "source": [
    "# Dataset API examples\n",
    "\n",
    "### Starting to hack on these. Not ready yet :)"
   ]
  },
  {
   "cell_type": "code",
   "execution_count": 1,
   "metadata": {},
   "outputs": [
    {
     "name": "stdout",
     "output_type": "stream",
     "text": [
      "This code requires TensorFlow v1.4+\n",
      "You have: 1.4.0-dev20170921\n"
     ]
    }
   ],
   "source": [
    "from __future__ import absolute_import\n",
    "from __future__ import division\n",
    "from __future__ import print_function\n",
    "\n",
    "import tensorflow as tf\n",
    "print('This code requires TensorFlow v1.4+')\n",
    "print('You have:', tf.__version__)"
   ]
  },
  {
   "cell_type": "code",
   "execution_count": 42,
   "metadata": {},
   "outputs": [
    {
     "name": "stdout",
     "output_type": "stream",
     "text": [
      "(array(['foo', 'foo', 'foo', 'foo', 'foo', 'foo', 'foo', 'foo', 'foo',\n",
      "       'foo', 'foo', 'foo', 'foo', 'foo', 'foo', 'foo', 'foo', 'foo',\n",
      "       'foo', 'foo'], dtype=object), array([ 1.,  1.,  1.,  1.,  1.,  1.,  1.,  1.,  1.,  1.,  1.,  1.,  1.,\n",
      "        1.,  1.,  1.,  1.,  1.,  1.,  1.]))\n"
     ]
    }
   ],
   "source": [
    "def generator():\n",
    "    # Your regular Python input processing code goes here\n",
    "    for i in range(10):\n",
    "        yield (\"foo\", 1.0)\n",
    "\n",
    "def input_fn():\n",
    "    dataset = (\n",
    "        tf.contrib.data.Dataset\n",
    "        # In TensorFlow 1.4, create a Dataset from a Python generator.\n",
    "        # https://github.com/tensorflow/tensorflow/blob/master/tensorflow/contrib/data/python/ops/dataset_ops.py\n",
    "        # Just list the datatypes that are are returned.\n",
    "        .from_generator(generator, (tf.string, tf.float64))\n",
    "        # Randomly shuffle using a buffer of 10000 examples.\n",
    "        .shuffle(10000)\n",
    "        # Repeat for 10 epochs.\n",
    "        .repeat(10)\n",
    "        # Combine 32 consecutive elements into a batch.\n",
    "        .batch(32)\n",
    "        # Use prefetch() to overlap the producer and consumer\n",
    "        # for a little performance optimization.\n",
    "        .prefetch(1)\n",
    "    )\n",
    "    return dataset.make_one_shot_iterator().get_next()\n",
    "\n",
    "# Now we can have an input function. We\n",
    "# can use this to train a TensorFlow Estimator.\n",
    "in_fn = input_fn()\n",
    "\n",
    "# Or, we can demo it, like this.\n",
    "# Pretty cool.\n",
    "with tf.Session() as sess:\n",
    "    stuff = sess.run(in_fn)\n",
    "    print(stuff)"
   ]
  }
 ],
 "metadata": {
  "kernelspec": {
   "display_name": "Python 2",
   "language": "python",
   "name": "python2"
  },
  "language_info": {
   "codemirror_mode": {
    "name": "ipython",
    "version": 2
   },
   "file_extension": ".py",
   "mimetype": "text/x-python",
   "name": "python",
   "nbconvert_exporter": "python",
   "pygments_lexer": "ipython2",
   "version": "2.7.10"
  }
 },
 "nbformat": 4,
 "nbformat_minor": 2
}
