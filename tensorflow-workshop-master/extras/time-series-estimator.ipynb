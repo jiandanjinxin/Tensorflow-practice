{
 "cells": [
  {
   "cell_type": "markdown",
   "metadata": {},
   "source": [
    "## Time series prediction\n",
    "\n",
    "This is an example of how to do time series prediction with TensorFlow high level APIs. We'll use the weather dataset available at [big query](https://bigquery.cloud.google.com/dataset/bigquery-public-data:noaa_gsod) and can be generated with the following query:\n",
    "\n",
    "```\n",
    "SELECT year, mo, da, \n",
    "avg(temp) as avg_tmp, \n",
    "avg(dewp) as avg_dewp, \n",
    "avg(slp) as avg_slp\n",
    "FROM `bigquery-public-data.noaa_gsod.gsod*`\n",
    "WHERE temp <> 9999.9 and dewp <> 9999.9 and slp <> 9999.9\n",
    "GROUP BY year, mo, da\n",
    "ORDER BY year asc, mo asc, da asc\n",
    "```\n",
    "\n",
    "You can download the data from [here](https://drive.google.com/file/d/0B5o0xAAYXFw2V1M2NDBUeHV4bEU/view?usp=sharing).\n",
    "\n",
    "We'll implement a RNN model using the Estimators API that given the average temperature of 10 days can predict the average temperature of the following day (11th).\n"
   ]
  },
  {
   "cell_type": "markdown",
   "metadata": {},
   "source": [
    "## Dependecies"
   ]
  },
  {
   "cell_type": "code",
   "execution_count": 3,
   "metadata": {
    "collapsed": true
   },
   "outputs": [],
   "source": [
    "# tensorflow\n",
    "import tensorflow as tf\n",
    "\n",
    "# rnn common functions\n",
    "from tensorflow.contrib.learn.python.learn.estimators import rnn_common\n",
    "\n",
    "# visualization\n",
    "import seaborn as sns\n",
    "import matplotlib.pyplot as plt\n",
    "\n",
    "# helpers\n",
    "import numpy as np\n",
    "import pandas as pd\n",
    "import csv\n",
    "\n",
    "# enable tensorflow logs\n",
    "tf.logging.set_verbosity(tf.logging.INFO)"
   ]
  },
  {
   "cell_type": "markdown",
   "metadata": {},
   "source": [
    "## Preparing the data\n",
    "\n",
    "First let's prepare the data for the model, the expected input for a RNN is:\n",
    "\n",
    "* x = sequence of features\n",
    "* y = what we want to predict/classify from x, in our case we want to predict the next avg temperature\n"
   ]
  },
  {
   "cell_type": "code",
   "execution_count": 5,
   "metadata": {},
   "outputs": [
    {
     "name": "stdout",
     "output_type": "stream",
     "text": [
      "number of rows in the dataset: 32094\n",
      "how a row looks like:\n",
      "    year  mo  da  avg_tmp  avg_dewp   avg_slp\n",
      "0   1929   8   1   58.200    52.875   994.950\n",
      "1   1929   8   2   55.925    49.500  1013.075\n",
      "2   1929   8   3   56.650    51.350  1013.675\n",
      "3   1929   8   4   60.625    55.350  1004.625\n",
      "4   1929   8   5   58.450    48.300  1010.400\n",
      "5   1929   8   6   58.700    56.525  1008.000\n",
      "6   1929   8   7   58.525    54.975  1007.825\n",
      "7   1929   8   8   58.200    49.925  1015.800\n",
      "8   1929   8   9   58.850    52.150  1016.400\n",
      "9   1929   8  10   62.225    56.175  1018.250\n",
      "10  1929   8  11   62.975    57.900  1017.550\n",
      "\n",
      "we don't use the year mo da columns, so let's forget about them\n",
      "    avg_tmp  avg_dewp   avg_slp\n",
      "0    58.200    52.875   994.950\n",
      "1    55.925    49.500  1013.075\n",
      "2    56.650    51.350  1013.675\n",
      "3    60.625    55.350  1004.625\n",
      "4    58.450    48.300  1010.400\n",
      "5    58.700    56.525  1008.000\n",
      "6    58.525    54.975  1007.825\n",
      "7    58.200    49.925  1015.800\n",
      "8    58.850    52.150  1016.400\n",
      "9    62.225    56.175  1018.250\n",
      "10   62.975    57.900  1017.550\n"
     ]
    }
   ],
   "source": [
    "df = pd.read_csv('weather.csv')\n",
    "\n",
    "number_of_rows = len(df)\n",
    "print('number of rows in the dataset:', number_of_rows)\n",
    "\n",
    "print('how a row looks like:')\n",
    "print(df.head(11))\n",
    "\n",
    "print()\n",
    "print(\"we don't use the year mo da columns, so let's forget about them\")\n",
    "df = df[['avg_tmp', 'avg_dewp', 'avg_slp']]\n",
    "print(df.head(11))"
   ]
  },
  {
   "cell_type": "code",
   "execution_count": 7,
   "metadata": {},
   "outputs": [
    {
     "name": "stdout",
     "output_type": "stream",
     "text": [
      "--------------------\n",
      "Example\n",
      "--------------------\n",
      "sequence:\n",
      "[[   58.20000076    52.875        994.95001221]\n",
      " [   55.92499924    49.5         1013.07501221]\n",
      " [   56.65000153    51.34999847  1013.67498779]\n",
      " [   60.625         55.34999847  1004.625     ]\n",
      " [   58.45000076    48.29999924  1010.40002441]\n",
      " [   58.70000076    56.52500153  1008.        ]\n",
      " [   58.52500153    54.97499847  1007.82501221]\n",
      " [   58.20000076    49.92499924  1015.79998779]\n",
      " [   58.84999847    52.15000153  1016.40002441]\n",
      " [   62.22499847    56.17499924  1018.25      ]]\n",
      "prediction: [ 62.975]\n"
     ]
    }
   ],
   "source": [
    "SEQ_LEN = 10\n",
    "VALID_ROWS = number_of_rows - SEQ_LEN - 1\n",
    "NUM_FEATURES = 3\n",
    "\n",
    "# then we can use indexes to access rows easily\n",
    "df = np.asarray(df)\n",
    "\n",
    "# sequences will have shape: [VALID_ROWS, SEQ_LEN, NUM_FEATURES]\n",
    "sequences = np.zeros((VALID_ROWS, SEQ_LEN, NUM_FEATURES), dtype=np.float32)\n",
    "labels = np.zeros((VALID_ROWS, 1))\n",
    "\n",
    "# sequences are 10 days\n",
    "# label is the avg_tmp for the following day (11th)\n",
    "for i in range(VALID_ROWS):\n",
    "    sequences[i] = df[i: i + SEQ_LEN]\n",
    "    labels[i] = df[i + SEQ_LEN][0]\n",
    "\n",
    "print('-' * 20)\n",
    "print('Example')\n",
    "print('-' * 20)\n",
    "\n",
    "print('sequence:')\n",
    "print(sequences[0])\n",
    "print('prediction:', labels[0])"
   ]
  },
  {
   "cell_type": "markdown",
   "metadata": {},
   "source": [
    "### Separating training, evaluation and a small test data\n",
    "\n",
    "The test data is going to be very small (10 sequences) and is being used just for visualization."
   ]
  },
  {
   "cell_type": "code",
   "execution_count": 13,
   "metadata": {},
   "outputs": [
    {
     "name": "stdout",
     "output_type": "stream",
     "text": [
      "train shape: (30000, 10, 3)\n",
      "eval shape: (2073, 10, 3)\n",
      "test shape: (10, 10, 3)\n"
     ]
    }
   ],
   "source": [
    "# these values are based on the number of valid rows which is 32083\n",
    "TRAIN_SIZE = 30000\n",
    "EVAL_SIZE = 2073\n",
    "TEST_SIZE = 10\n",
    "\n",
    "# shuffle the data\n",
    "assert len(sequences) == len(labels)\n",
    "p = np.random.permutation(len(sequences))\n",
    "sequences = sequences[p]\n",
    "labels = labels[p]\n",
    "\n",
    "train_seq = sequences[:TRAIN_SIZE]\n",
    "train_label = np.asarray(labels[:TRAIN_SIZE], dtype=np.float32)\n",
    "\n",
    "eval_seq = sequences[TRAIN_SIZE: TRAIN_SIZE + EVAL_SIZE]\n",
    "eval_label = np.asarray(labels[TRAIN_SIZE:TRAIN_SIZE + EVAL_SIZE], dtype=np.float32)\n",
    "\n",
    "test_seq = sequences[TRAIN_SIZE + EVAL_SIZE: ]\n",
    "test_label = np.asarray(labels[TRAIN_SIZE + EVAL_SIZE: ], dtype=np.float32)\n",
    "\n",
    "print('train shape:', train_seq.shape)\n",
    "print('eval shape:', eval_seq.shape)\n",
    "print('test shape:', test_seq.shape)"
   ]
  },
  {
   "cell_type": "markdown",
   "metadata": {},
   "source": [
    "### What we want to predict\n",
    "\n",
    "This is the plot of the labels from the test data."
   ]
  },
  {
   "cell_type": "code",
   "execution_count": 14,
   "metadata": {},
   "outputs": [
    {
     "name": "stderr",
     "output_type": "stream",
     "text": [
      "/usr/local/lib/python3.4/dist-packages/seaborn/timeseries.py:183: UserWarning: The tsplot function is deprecated and will be removed or replaced (in a substantially altered version) in a future release.\n",
      "  warnings.warn(msg, UserWarning)\n"
     ]
    },
    {
     "data": {
      "image/png": "[encoded data removed]",
      "text/plain": [
       "<matplotlib.figure.Figure at 0x7f48b7c51630>"
      ]
     },
     "metadata": {},
     "output_type": "display_data"
    }
   ],
   "source": [
    "# getting test labels\n",
    "test_plot_data = [test_label[i][0] for i in range(TEST_SIZE)]\n",
    "\n",
    "# plotting\n",
    "sns.tsplot(test_plot_data)\n",
    "plt.show()"
   ]
  },
  {
   "cell_type": "markdown",
   "metadata": {},
   "source": [
    "## Defining Input functions"
   ]
  },
  {
   "cell_type": "code",
   "execution_count": 15,
   "metadata": {
    "collapsed": true
   },
   "outputs": [],
   "source": [
    "BATCH_SIZE = 64\n",
    "\n",
    "FEATURE_KEY = 'x'\n",
    "SEQ_LEN_KEY = 'sequence_length'\n",
    "def make_dict(x):\n",
    "    d = {}\n",
    "    d[FEATURE_KEY] = x\n",
    "    # [SIZE OF DATA SET, 1]\n",
    "    # where the second dimesion contains the sequence of each\n",
    "    # sequence in the data set\n",
    "    d[SEQ_LEN_KEY] = np.asarray(x.shape[0] * [SEQ_LEN], dtype=np.int32)\n",
    "    return d\n",
    "\n",
    "# Make input function for training: \n",
    "#   num_epochs=None -> will cycle through input data forever\n",
    "#   shuffle=True -> randomize order of input data\n",
    "train_input_fn = tf.estimator.inputs.numpy_input_fn(x=make_dict(train_seq),\n",
    "                                                    y=train_label,\n",
    "                                                    batch_size=BATCH_SIZE,\n",
    "                                                    shuffle=True,\n",
    "                                                    num_epochs=None)\n",
    "\n",
    "# Make input function for evaluation:\n",
    "# shuffle=False -> do not randomize input data\n",
    "eval_input_fn = tf.estimator.inputs.numpy_input_fn(x=make_dict(eval_seq),\n",
    "                                                    y=eval_label,\n",
    "                                                    batch_size=BATCH_SIZE,\n",
    "                                                    shuffle=False)\n",
    "\n",
    "# Make input function for testing:\n",
    "# shuffle=False -> do not randomize input data\n",
    "test_input_fn = tf.estimator.inputs.numpy_input_fn(x=make_dict(test_seq),\n",
    "                                                    y=test_label,\n",
    "                                                    batch_size=1,\n",
    "                                                    shuffle=False)"
   ]
  },
  {
   "cell_type": "markdown",
   "metadata": {},
   "source": [
    "### RNN Model"
   ]
  },
  {
   "cell_type": "code",
   "execution_count": 16,
   "metadata": {
    "collapsed": true
   },
   "outputs": [],
   "source": [
    "N_OUTPUTS = 1 # 1 prediction\n",
    "NUM_FEATURES = 3\n",
    "\n",
    "def get_model_fn(rnn_cell_sizes,\n",
    "                 label_dimension,\n",
    "                 dnn_layer_sizes=[],\n",
    "                 optimizer='SGD',\n",
    "                 learning_rate=0.01):\n",
    "    \n",
    "    def model_fn(features, labels, mode, params):\n",
    "\n",
    "        x = features[FEATURE_KEY]\n",
    "        sequence_length = features[SEQ_LEN_KEY]\n",
    "\n",
    "        # 1. configure the RNN\n",
    "        \n",
    "        # Each RNN layer will consist of a LSTM cell\n",
    "        rnn_layers = [tf.nn.rnn_cell.LSTMCell(size) for size in rnn_cell_sizes]\n",
    "        \n",
    "        # Construct the layers\n",
    "        multi_rnn_cell = tf.nn.rnn_cell.MultiRNNCell(rnn_layers)\n",
    "        \n",
    "        outputs, _ = tf.nn.dynamic_rnn(multi_rnn_cell, x, dtype=tf.float32)\n",
    "\n",
    "        # Slice to keep only the last cell of the RNN\n",
    "        last_activations = rnn_common.select_last_activations(outputs,\n",
    "                                                              sequence_length)\n",
    "\n",
    "        # Construct dense layers on top of the last cell of the RNN\n",
    "        for units in dnn_layer_sizes:\n",
    "            last_activations = tf.layers.dense(last_activations,\n",
    "                                               units,\n",
    "                                               activation=tf.nn.relu)\n",
    "        \n",
    "        # Final dense layer for prediction\n",
    "        predictions = tf.layers.dense(last_activations, label_dimension)\n",
    "        \n",
    "        # 2. Define the loss function for training/evaluation\n",
    "        loss = None\n",
    "        eval_metric_ops = None\n",
    "        train_op = None\n",
    "\n",
    "        # if predicting labels can be None\n",
    "        if mode != tf.estimator.ModeKeys.PREDICT:\n",
    "            loss = tf.losses.mean_squared_error(labels, predictions)\n",
    "            eval_metric_ops = {\n",
    "              \"rmse\": tf.metrics.root_mean_squared_error(labels, predictions)\n",
    "            }\n",
    "\n",
    "            # 3. Define the training operation/optimizer\n",
    "            train_op = tf.contrib.layers.optimize_loss(\n",
    "              loss=loss,\n",
    "              global_step=tf.contrib.framework.get_global_step(),\n",
    "              learning_rate=learning_rate,\n",
    "              optimizer=optimizer)\n",
    "\n",
    "        # 4. Create predictions\n",
    "        predictions_dict = {\"predicted\": predictions}\n",
    "\n",
    "        # 5. return ModelFnOps\n",
    "        return tf.estimator.EstimatorSpec(\n",
    "          mode=mode,\n",
    "          predictions=predictions_dict,\n",
    "          loss=loss,\n",
    "          train_op=train_op,\n",
    "          eval_metric_ops=eval_metric_ops)\n",
    "    \n",
    "    return model_fn"
   ]
  },
  {
   "cell_type": "markdown",
   "metadata": {},
   "source": [
    "## Running model"
   ]
  },
  {
   "cell_type": "code",
   "execution_count": 17,
   "metadata": {},
   "outputs": [
    {
     "name": "stdout",
     "output_type": "stream",
     "text": [
      "INFO:tensorflow:Using default config.\n",
      "WARNING:tensorflow:Using temporary folder as model directory: /tmp/tmp4qxiu_d5\n",
      "INFO:tensorflow:Using config: {'_log_step_count_steps': 100, '_model_dir': '/tmp/tmp4qxiu_d5', '_save_summary_steps': 100, '_save_checkpoints_secs': 600, '_tf_random_seed': 1, '_session_config': None, '_save_checkpoints_steps': None, '_keep_checkpoint_max': 5, '_keep_checkpoint_every_n_hours': 10000}\n",
      "WARNING:tensorflow:Estimator's model_fn (<function get_model_fn.<locals>.model_fn at 0x7f48b5b81488>) includes params argument, but params are not passed to Estimator.\n"
     ]
    }
   ],
   "source": [
    "model_fn = get_model_fn(rnn_cell_sizes=[64], # size of the hidden layers\n",
    "                        label_dimension=1, # since is just 1 prediction\n",
    "                        dnn_layer_sizes=[32], # size of units in the dense layers on top of the RNN\n",
    "                        optimizer='Adam',\n",
    "                        learning_rate=0.001)\n",
    "\n",
    "estimator = tf.estimator.Estimator(model_fn=model_fn)"
   ]
  },
  {
   "cell_type": "markdown",
   "metadata": {},
   "source": [
    "### Trainning"
   ]
  },
  {
   "cell_type": "code",
   "execution_count": 18,
   "metadata": {},
   "outputs": [
    {
     "name": "stdout",
     "output_type": "stream",
     "text": [
      "WARNING:tensorflow:From <ipython-input-16-0393b090cf77>:53: get_global_step (from tensorflow.contrib.framework.python.ops.variables) is deprecated and will be removed in a future version.\n",
      "Instructions for updating:\n",
      "Please switch to tf.train.get_global_step\n",
      "WARNING:tensorflow:From /usr/local/lib/python3.4/dist-packages/tensorflow/contrib/layers/python/layers/optimizers.py:160: assert_global_step (from tensorflow.contrib.framework.python.ops.variables) is deprecated and will be removed in a future version.\n",
      "Instructions for updating:\n",
      "Please switch to tf.train.assert_global_step\n",
      "INFO:tensorflow:Create CheckpointSaverHook.\n"
     ]
    },
    {
     "name": "stderr",
     "output_type": "stream",
     "text": [
      "/usr/local/lib/python3.4/dist-packages/tensorflow/python/ops/gradients_impl.py:95: UserWarning: Converting sparse IndexedSlices to a dense Tensor of unknown shape. This may consume a large amount of memory.\n",
      "  \"Converting sparse IndexedSlices to a dense Tensor of unknown shape. \"\n"
     ]
    },
    {
     "name": "stdout",
     "output_type": "stream",
     "text": [
      "INFO:tensorflow:Saving checkpoints for 1 into /tmp/tmp4qxiu_d5/model.ckpt.\n",
      "INFO:tensorflow:step = 1, loss = 2918.31\n",
      "INFO:tensorflow:global_step/sec: 158.482\n",
      "INFO:tensorflow:step = 101, loss = 1835.27 (0.632 sec)\n",
      "INFO:tensorflow:global_step/sec: 188.274\n",
      "INFO:tensorflow:step = 201, loss = 693.025 (0.531 sec)\n",
      "INFO:tensorflow:global_step/sec: 211.844\n",
      "INFO:tensorflow:step = 301, loss = 171.843 (0.472 sec)\n",
      "INFO:tensorflow:global_step/sec: 216.231\n",
      "INFO:tensorflow:step = 401, loss = 169.523 (0.463 sec)\n",
      "INFO:tensorflow:global_step/sec: 212.212\n",
      "INFO:tensorflow:step = 501, loss = 173.152 (0.471 sec)\n",
      "INFO:tensorflow:global_step/sec: 205.531\n",
      "INFO:tensorflow:step = 601, loss = 162.311 (0.487 sec)\n",
      "INFO:tensorflow:global_step/sec: 215.288\n",
      "INFO:tensorflow:step = 701, loss = 94.2222 (0.464 sec)\n",
      "INFO:tensorflow:global_step/sec: 213.273\n",
      "INFO:tensorflow:step = 801, loss = 75.7156 (0.469 sec)\n",
      "INFO:tensorflow:global_step/sec: 202.654\n",
      "INFO:tensorflow:step = 901, loss = 69.1147 (0.494 sec)\n",
      "INFO:tensorflow:global_step/sec: 219.633\n",
      "INFO:tensorflow:step = 1001, loss = 39.4846 (0.455 sec)\n",
      "INFO:tensorflow:global_step/sec: 226.467\n",
      "INFO:tensorflow:step = 1101, loss = 18.8291 (0.442 sec)\n",
      "INFO:tensorflow:global_step/sec: 213.905\n",
      "INFO:tensorflow:step = 1201, loss = 6.14817 (0.468 sec)\n",
      "INFO:tensorflow:global_step/sec: 213.03\n",
      "INFO:tensorflow:step = 1301, loss = 4.74302 (0.469 sec)\n",
      "INFO:tensorflow:global_step/sec: 223.877\n",
      "INFO:tensorflow:step = 1401, loss = 9.1318 (0.447 sec)\n",
      "INFO:tensorflow:global_step/sec: 220.544\n",
      "INFO:tensorflow:step = 1501, loss = 5.13922 (0.453 sec)\n",
      "INFO:tensorflow:global_step/sec: 221.674\n",
      "INFO:tensorflow:step = 1601, loss = 3.1395 (0.451 sec)\n",
      "INFO:tensorflow:global_step/sec: 222.922\n",
      "INFO:tensorflow:step = 1701, loss = 2.42378 (0.449 sec)\n",
      "INFO:tensorflow:global_step/sec: 222.164\n",
      "INFO:tensorflow:step = 1801, loss = 3.58251 (0.450 sec)\n",
      "INFO:tensorflow:global_step/sec: 224.999\n",
      "INFO:tensorflow:step = 1901, loss = 4.33996 (0.444 sec)\n",
      "INFO:tensorflow:global_step/sec: 218.946\n",
      "INFO:tensorflow:step = 2001, loss = 4.69081 (0.457 sec)\n",
      "INFO:tensorflow:global_step/sec: 224.234\n",
      "INFO:tensorflow:step = 2101, loss = 2.72381 (0.446 sec)\n",
      "INFO:tensorflow:global_step/sec: 216.343\n",
      "INFO:tensorflow:step = 2201, loss = 2.07979 (0.463 sec)\n",
      "INFO:tensorflow:global_step/sec: 190.519\n",
      "INFO:tensorflow:step = 2301, loss = 3.19079 (0.525 sec)\n",
      "INFO:tensorflow:global_step/sec: 208.98\n",
      "INFO:tensorflow:step = 2401, loss = 2.36002 (0.478 sec)\n",
      "INFO:tensorflow:global_step/sec: 190.72\n",
      "INFO:tensorflow:step = 2501, loss = 1.11932 (0.524 sec)\n",
      "INFO:tensorflow:global_step/sec: 196.07\n",
      "INFO:tensorflow:step = 2601, loss = 2.32463 (0.510 sec)\n",
      "INFO:tensorflow:global_step/sec: 213.534\n",
      "INFO:tensorflow:step = 2701, loss = 4.11412 (0.468 sec)\n",
      "INFO:tensorflow:global_step/sec: 215.701\n",
      "INFO:tensorflow:step = 2801, loss = 1.78433 (0.464 sec)\n",
      "INFO:tensorflow:global_step/sec: 214.523\n",
      "INFO:tensorflow:step = 2901, loss = 1.52425 (0.466 sec)\n",
      "INFO:tensorflow:global_step/sec: 212.496\n",
      "INFO:tensorflow:step = 3001, loss = 3.63102 (0.471 sec)\n",
      "INFO:tensorflow:global_step/sec: 218.649\n",
      "INFO:tensorflow:step = 3101, loss = 1.47834 (0.457 sec)\n",
      "INFO:tensorflow:global_step/sec: 211.618\n",
      "INFO:tensorflow:step = 3201, loss = 1.63239 (0.473 sec)\n",
      "INFO:tensorflow:global_step/sec: 211.834\n",
      "INFO:tensorflow:step = 3301, loss = 1.12533 (0.472 sec)\n",
      "INFO:tensorflow:global_step/sec: 219.771\n",
      "INFO:tensorflow:step = 3401, loss = 3.27635 (0.455 sec)\n",
      "INFO:tensorflow:global_step/sec: 217.425\n",
      "INFO:tensorflow:step = 3501, loss = 2.49468 (0.460 sec)\n",
      "INFO:tensorflow:global_step/sec: 224.214\n",
      "INFO:tensorflow:step = 3601, loss = 2.17396 (0.446 sec)\n",
      "INFO:tensorflow:global_step/sec: 217.313\n",
      "INFO:tensorflow:step = 3701, loss = 2.72752 (0.460 sec)\n",
      "INFO:tensorflow:global_step/sec: 206.127\n",
      "INFO:tensorflow:step = 3801, loss = 3.09878 (0.485 sec)\n",
      "INFO:tensorflow:global_step/sec: 221.367\n",
      "INFO:tensorflow:step = 3901, loss = 3.26386 (0.452 sec)\n",
      "INFO:tensorflow:global_step/sec: 189.104\n",
      "INFO:tensorflow:step = 4001, loss = 2.02923 (0.529 sec)\n",
      "INFO:tensorflow:global_step/sec: 217.369\n",
      "INFO:tensorflow:step = 4101, loss = 1.40002 (0.460 sec)\n",
      "INFO:tensorflow:global_step/sec: 222.235\n",
      "INFO:tensorflow:step = 4201, loss = 2.09141 (0.450 sec)\n",
      "INFO:tensorflow:global_step/sec: 217.868\n",
      "INFO:tensorflow:step = 4301, loss = 0.982795 (0.459 sec)\n",
      "INFO:tensorflow:global_step/sec: 222.998\n",
      "INFO:tensorflow:step = 4401, loss = 2.19336 (0.448 sec)\n",
      "INFO:tensorflow:global_step/sec: 223.291\n",
      "INFO:tensorflow:step = 4501, loss = 2.46154 (0.448 sec)\n",
      "INFO:tensorflow:global_step/sec: 203.267\n",
      "INFO:tensorflow:step = 4601, loss = 1.82969 (0.492 sec)\n",
      "INFO:tensorflow:global_step/sec: 216.871\n",
      "INFO:tensorflow:step = 4701, loss = 1.29343 (0.461 sec)\n",
      "INFO:tensorflow:global_step/sec: 223.018\n",
      "INFO:tensorflow:step = 4801, loss = 2.41866 (0.448 sec)\n",
      "INFO:tensorflow:global_step/sec: 219.152\n",
      "INFO:tensorflow:step = 4901, loss = 2.92168 (0.456 sec)\n",
      "INFO:tensorflow:global_step/sec: 224.517\n",
      "INFO:tensorflow:step = 5001, loss = 0.774043 (0.445 sec)\n",
      "INFO:tensorflow:global_step/sec: 213.353\n",
      "INFO:tensorflow:step = 5101, loss = 2.04372 (0.469 sec)\n",
      "INFO:tensorflow:global_step/sec: 208.054\n",
      "INFO:tensorflow:step = 5201, loss = 3.91047 (0.481 sec)\n",
      "INFO:tensorflow:global_step/sec: 185.05\n",
      "INFO:tensorflow:step = 5301, loss = 2.97092 (0.540 sec)\n",
      "INFO:tensorflow:global_step/sec: 213.925\n",
      "INFO:tensorflow:step = 5401, loss = 1.95192 (0.467 sec)\n",
      "INFO:tensorflow:global_step/sec: 221.98\n",
      "INFO:tensorflow:step = 5501, loss = 1.96869 (0.451 sec)\n",
      "INFO:tensorflow:global_step/sec: 223.375\n",
      "INFO:tensorflow:step = 5601, loss = 3.89947 (0.448 sec)\n",
      "INFO:tensorflow:global_step/sec: 219.849\n",
      "INFO:tensorflow:step = 5701, loss = 2.43821 (0.455 sec)\n",
      "INFO:tensorflow:global_step/sec: 207.755\n",
      "INFO:tensorflow:step = 5801, loss = 1.54173 (0.481 sec)\n",
      "INFO:tensorflow:global_step/sec: 225.94\n",
      "INFO:tensorflow:step = 5901, loss = 2.42638 (0.443 sec)\n",
      "INFO:tensorflow:global_step/sec: 218.658\n",
      "INFO:tensorflow:step = 6001, loss = 1.02554 (0.457 sec)\n",
      "INFO:tensorflow:global_step/sec: 219.084\n",
      "INFO:tensorflow:step = 6101, loss = 2.59487 (0.457 sec)\n",
      "INFO:tensorflow:global_step/sec: 220.106\n",
      "INFO:tensorflow:step = 6201, loss = 1.70743 (0.454 sec)\n",
      "INFO:tensorflow:global_step/sec: 220.756\n",
      "INFO:tensorflow:step = 6301, loss = 2.7332 (0.453 sec)\n",
      "INFO:tensorflow:global_step/sec: 224.308\n",
      "INFO:tensorflow:step = 6401, loss = 1.20201 (0.446 sec)\n",
      "INFO:tensorflow:global_step/sec: 223.127\n",
      "INFO:tensorflow:step = 6501, loss = 3.17866 (0.448 sec)\n",
      "INFO:tensorflow:global_step/sec: 221.552\n",
      "INFO:tensorflow:step = 6601, loss = 2.59958 (0.451 sec)\n",
      "INFO:tensorflow:global_step/sec: 224.028\n",
      "INFO:tensorflow:step = 6701, loss = 3.54016 (0.446 sec)\n",
      "INFO:tensorflow:global_step/sec: 222.522\n",
      "INFO:tensorflow:step = 6801, loss = 2.20032 (0.449 sec)\n",
      "INFO:tensorflow:global_step/sec: 221.669\n",
      "INFO:tensorflow:step = 6901, loss = 1.01844 (0.451 sec)\n",
      "INFO:tensorflow:global_step/sec: 225.747\n",
      "INFO:tensorflow:step = 7001, loss = 1.17169 (0.443 sec)\n",
      "INFO:tensorflow:global_step/sec: 206.402\n",
      "INFO:tensorflow:step = 7101, loss = 1.25552 (0.484 sec)\n",
      "INFO:tensorflow:global_step/sec: 219.2\n",
      "INFO:tensorflow:step = 7201, loss = 1.02022 (0.456 sec)\n",
      "INFO:tensorflow:global_step/sec: 217.43\n",
      "INFO:tensorflow:step = 7301, loss = 2.06519 (0.460 sec)\n",
      "INFO:tensorflow:global_step/sec: 222.534\n",
      "INFO:tensorflow:step = 7401, loss = 1.94279 (0.449 sec)\n",
      "INFO:tensorflow:global_step/sec: 207.338\n",
      "INFO:tensorflow:step = 7501, loss = 1.62165 (0.482 sec)\n",
      "INFO:tensorflow:global_step/sec: 206.389\n",
      "INFO:tensorflow:step = 7601, loss = 0.970667 (0.484 sec)\n",
      "INFO:tensorflow:global_step/sec: 223.51\n",
      "INFO:tensorflow:step = 7701, loss = 1.10272 (0.448 sec)\n",
      "INFO:tensorflow:global_step/sec: 224.715\n",
      "INFO:tensorflow:step = 7801, loss = 1.23391 (0.445 sec)\n",
      "INFO:tensorflow:global_step/sec: 207.508\n",
      "INFO:tensorflow:step = 7901, loss = 1.50865 (0.482 sec)\n",
      "INFO:tensorflow:global_step/sec: 218.715\n",
      "INFO:tensorflow:step = 8001, loss = 1.50159 (0.457 sec)\n",
      "INFO:tensorflow:global_step/sec: 217.999\n",
      "INFO:tensorflow:step = 8101, loss = 2.27695 (0.459 sec)\n",
      "INFO:tensorflow:global_step/sec: 224.077\n",
      "INFO:tensorflow:step = 8201, loss = 0.761804 (0.446 sec)\n",
      "INFO:tensorflow:global_step/sec: 227.941\n",
      "INFO:tensorflow:step = 8301, loss = 2.57225 (0.439 sec)\n",
      "INFO:tensorflow:global_step/sec: 209.921\n",
      "INFO:tensorflow:step = 8401, loss = 1.0427 (0.476 sec)\n"
     ]
    },
    {
     "name": "stdout",
     "output_type": "stream",
     "text": [
      "INFO:tensorflow:global_step/sec: 220.308\n",
      "INFO:tensorflow:step = 8501, loss = 1.23549 (0.454 sec)\n",
      "INFO:tensorflow:global_step/sec: 218.716\n",
      "INFO:tensorflow:step = 8601, loss = 1.12603 (0.457 sec)\n",
      "INFO:tensorflow:global_step/sec: 218.121\n",
      "INFO:tensorflow:step = 8701, loss = 2.57851 (0.458 sec)\n",
      "INFO:tensorflow:global_step/sec: 222.021\n",
      "INFO:tensorflow:step = 8801, loss = 1.73448 (0.450 sec)\n",
      "INFO:tensorflow:global_step/sec: 221.947\n",
      "INFO:tensorflow:step = 8901, loss = 2.94743 (0.451 sec)\n",
      "INFO:tensorflow:global_step/sec: 219.231\n",
      "INFO:tensorflow:step = 9001, loss = 1.74201 (0.456 sec)\n",
      "INFO:tensorflow:global_step/sec: 223.072\n",
      "INFO:tensorflow:step = 9101, loss = 1.29478 (0.448 sec)\n",
      "INFO:tensorflow:global_step/sec: 217.821\n",
      "INFO:tensorflow:step = 9201, loss = 2.55973 (0.459 sec)\n",
      "INFO:tensorflow:global_step/sec: 224.078\n",
      "INFO:tensorflow:step = 9301, loss = 1.68545 (0.446 sec)\n",
      "INFO:tensorflow:global_step/sec: 223.501\n",
      "INFO:tensorflow:step = 9401, loss = 2.18164 (0.447 sec)\n",
      "INFO:tensorflow:global_step/sec: 221.456\n",
      "INFO:tensorflow:step = 9501, loss = 2.0515 (0.452 sec)\n",
      "INFO:tensorflow:global_step/sec: 221.153\n",
      "INFO:tensorflow:step = 9601, loss = 2.30217 (0.452 sec)\n",
      "INFO:tensorflow:global_step/sec: 218.728\n",
      "INFO:tensorflow:step = 9701, loss = 1.47036 (0.457 sec)\n",
      "INFO:tensorflow:global_step/sec: 219.39\n",
      "INFO:tensorflow:step = 9801, loss = 1.37875 (0.456 sec)\n",
      "INFO:tensorflow:global_step/sec: 215.519\n",
      "INFO:tensorflow:step = 9901, loss = 1.9276 (0.464 sec)\n",
      "INFO:tensorflow:Saving checkpoints for 10000 into /tmp/tmp4qxiu_d5/model.ckpt.\n",
      "INFO:tensorflow:Loss for final step: 1.75914.\n"
     ]
    },
    {
     "data": {
      "text/plain": [
       "<tensorflow.python.estimator.estimator.Estimator at 0x7f48b5b51f28>"
      ]
     },
     "execution_count": 18,
     "metadata": {},
     "output_type": "execute_result"
    }
   ],
   "source": [
    "estimator.train(input_fn=train_input_fn, steps=10000)"
   ]
  },
  {
   "cell_type": "markdown",
   "metadata": {},
   "source": [
    "### Evaluating"
   ]
  },
  {
   "cell_type": "code",
   "execution_count": 19,
   "metadata": {},
   "outputs": [
    {
     "name": "stdout",
     "output_type": "stream",
     "text": [
      "WARNING:tensorflow:From <ipython-input-16-0393b090cf77>:53: get_global_step (from tensorflow.contrib.framework.python.ops.variables) is deprecated and will be removed in a future version.\n",
      "Instructions for updating:\n",
      "Please switch to tf.train.get_global_step\n",
      "WARNING:tensorflow:From /usr/local/lib/python3.4/dist-packages/tensorflow/contrib/layers/python/layers/optimizers.py:160: assert_global_step (from tensorflow.contrib.framework.python.ops.variables) is deprecated and will be removed in a future version.\n",
      "Instructions for updating:\n",
      "Please switch to tf.train.assert_global_step\n",
      "INFO:tensorflow:Starting evaluation at 2017-08-15-14:02:44\n"
     ]
    },
    {
     "name": "stderr",
     "output_type": "stream",
     "text": [
      "/usr/local/lib/python3.4/dist-packages/tensorflow/python/ops/gradients_impl.py:95: UserWarning: Converting sparse IndexedSlices to a dense Tensor of unknown shape. This may consume a large amount of memory.\n",
      "  \"Converting sparse IndexedSlices to a dense Tensor of unknown shape. \"\n"
     ]
    },
    {
     "name": "stdout",
     "output_type": "stream",
     "text": [
      "INFO:tensorflow:Restoring parameters from /tmp/tmp4qxiu_d5/model.ckpt-10000\n",
      "INFO:tensorflow:Finished evaluation at 2017-08-15-14:02:45\n",
      "INFO:tensorflow:Saving dict for global step 10000: global_step = 10000, loss = 1.65529, rmse = 1.28595\n",
      "{'rmse': 1.2859511, 'global_step': 10000, 'loss': 1.6552891}\n"
     ]
    }
   ],
   "source": [
    "ev = estimator.evaluate(input_fn=eval_input_fn)\n",
    "print(ev)"
   ]
  },
  {
   "cell_type": "markdown",
   "metadata": {},
   "source": [
    "### Testing"
   ]
  },
  {
   "cell_type": "code",
   "execution_count": 20,
   "metadata": {},
   "outputs": [
    {
     "name": "stdout",
     "output_type": "stream",
     "text": [
      "INFO:tensorflow:Restoring parameters from /tmp/tmp4qxiu_d5/model.ckpt-10000\n",
      "{'predicted': array([ 71.16423035], dtype=float32)}\n",
      "{'predicted': array([ 33.20519257], dtype=float32)}\n",
      "{'predicted': array([ 34.46249008], dtype=float32)}\n",
      "{'predicted': array([ 64.84555054], dtype=float32)}\n",
      "{'predicted': array([ 51.94036484], dtype=float32)}\n",
      "{'predicted': array([ 44.14349365], dtype=float32)}\n",
      "{'predicted': array([ 50.87601852], dtype=float32)}\n",
      "{'predicted': array([ 60.52082825], dtype=float32)}\n",
      "{'predicted': array([ 33.25720215], dtype=float32)}\n",
      "{'predicted': array([ 51.82673645], dtype=float32)}\n"
     ]
    }
   ],
   "source": [
    "preds = list(estimator.predict(input_fn=test_input_fn))\n",
    "predictions = []\n",
    "for p in preds:\n",
    "    print(p)\n",
    "    predictions.append(p[\"predicted\"][0])"
   ]
  },
  {
   "cell_type": "markdown",
   "metadata": {},
   "source": [
    "### Visualizing predictions"
   ]
  },
  {
   "cell_type": "code",
   "execution_count": 21,
   "metadata": {},
   "outputs": [
    {
     "name": "stderr",
     "output_type": "stream",
     "text": [
      "/usr/local/lib/python3.4/dist-packages/seaborn/timeseries.py:183: UserWarning: The tsplot function is deprecated and will be removed or replaced (in a substantially altered version) in a future release.\n",
      "  warnings.warn(msg, UserWarning)\n"
     ]
    },
    {
     "data": {
      "image/png": "[encoded data removed]",
      "text/plain": [
       "<matplotlib.figure.Figure at 0x7f48b4c4a518>"
      ]
     },
     "metadata": {},
     "output_type": "display_data"
    }
   ],
   "source": [
    "# plotting real values in black\n",
    "sns.tsplot(test_plot_data, color=\"black\")\n",
    "# plotting predictions in red\n",
    "sns.tsplot(predictions, color=\"red\")\n",
    "\n",
    "plt.show()"
   ]
  }
 ],
 "metadata": {
  "kernelspec": {
   "display_name": "Python 2",
   "language": "python",
   "name": "python2"
  },
  "language_info": {
   "codemirror_mode": {
    "name": "ipython",
    "version": 3
   },
   "file_extension": ".py",
   "mimetype": "text/x-python",
   "name": "python",
   "nbconvert_exporter": "python",
   "pygments_lexer": "ipython3",
   "version": "3.4.3"
  }
 },
 "nbformat": 4,
 "nbformat_minor": 2
}
