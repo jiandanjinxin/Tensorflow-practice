{
 "cells": [
  {
   "cell_type": "markdown",
   "metadata": {},
   "source": [
    "This notebook demonstrates creating a custom sprite image for the TensorFlow [Embedding Visualizer](https://www.tensorflow.org/get_started/embedding_viz) using the MNIST dataset."
   ]
  },
  {
   "cell_type": "code",
   "execution_count": null,
   "metadata": {
    "collapsed": true
   },
   "outputs": [],
   "source": [
    "import tensorflow as tf\n",
    "from tensorflow.examples.tutorials.mnist import input_data\n",
    "\n",
    "import numpy as np\n",
    "from PIL import Image, ImageOps"
   ]
  },
  {
   "cell_type": "code",
   "execution_count": null,
   "metadata": {},
   "outputs": [],
   "source": [
    "mnist = input_data.read_data_sets('/tmp/data', one_hot=True)"
   ]
  },
  {
   "cell_type": "code",
   "execution_count": null,
   "metadata": {
    "collapsed": true
   },
   "outputs": [],
   "source": [
    "rows = 32\n",
    "cols = rows\n",
    "im_size = 28\n",
    "\n",
    "sprite = np.zeros((rows*im_size, cols*im_size))\n",
    "\n",
    "idx = -1\n",
    "for i in range(rows):\n",
    "    for j in range(cols):\n",
    "        idx +=1\n",
    "        image = mnist.test.images[idx].reshape((28,28))\n",
    "        row_coord = i * 28\n",
    "        col_coord = j * 28\n",
    "        sprite[row_coord:row_coord + 28, col_coord:col_coord + 28] = image\n",
    "        \n",
    "im = Image.fromarray(sprite * 255)\n",
    "im = im.convert('RGB')\n",
    "im = ImageOps.invert(im)\n",
    "\n",
    "def get_color(lbl):\n",
    "    if lbl == 0: return (255, 102, 102)\n",
    "    if lbl == 1: return (255, 178, 102)\n",
    "    if lbl == 2: return (255, 255, 102)\n",
    "    if lbl == 3: return (178, 255, 102)\n",
    "    if lbl == 4: return (102, 255, 102)\n",
    "    if lbl == 5: return (102, 255, 178)\n",
    "    if lbl == 6: return (102, 255, 255)\n",
    "    if lbl == 7: return (102, 178, 255)\n",
    "    if lbl == 8: return (102, 102, 255)\n",
    "    if lbl == 9: return (178, 102, 255)\n",
    "\n",
    "labels_file = open(\"labels.tsv\", \"w\")\n",
    "    \n",
    "# colorize\n",
    "orig_color = (255,255,255)\n",
    "data = np.array(im)\n",
    "\n",
    "idx = -1\n",
    "for i in range(rows):\n",
    "    for j in range(cols):\n",
    "        idx +=1\n",
    "        row_coord = i * 28\n",
    "        col_coord = j * 28\n",
    "        label = np.argmax(mnist.test.labels[idx])\n",
    "        labels_file.write(str(label) + \"\\n\")\n",
    "        replacement_color = get_color(label)\n",
    "        r = data[row_coord:row_coord + 28, col_coord:col_coord + 28]\n",
    "        r[(r == orig_color).all(axis = -1)] = replacement_color\n",
    "\n",
    "im = Image.fromarray(data, mode='RGB')\n",
    "im.save(\"sprite.png\")\n",
    "im.show()\n",
    "\n",
    "labels_file.close()"
   ]
  }
 ],
 "metadata": {
  "kernelspec": {
   "display_name": "Python 2",
   "language": "python",
   "name": "python2"
  },
  "language_info": {
   "codemirror_mode": {
    "name": "ipython",
    "version": 2
   },
   "file_extension": ".py",
   "mimetype": "text/x-python",
   "name": "python",
   "nbconvert_exporter": "python",
   "pygments_lexer": "ipython2",
   "version": "2.7.10"
  }
 },
 "nbformat": 4,
 "nbformat_minor": 2
}
