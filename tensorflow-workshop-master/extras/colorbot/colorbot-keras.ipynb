{
 "cells": [
  {
   "cell_type": "code",
   "execution_count": 19,
   "metadata": {
    "collapsed": true
   },
   "outputs": [],
   "source": [
    "# Started hacking on this\n",
    "# For the colors dataset, see: https://goo.gl/FjTazT\n",
    "# Based on https://github.com/andrewortman/colorbot/"
   ]
  },
  {
   "cell_type": "code",
   "execution_count": 2,
   "metadata": {
    "collapsed": true
   },
   "outputs": [],
   "source": [
    "from __future__ import absolute_import\n",
    "from __future__ import division\n",
    "from __future__ import print_function\n",
    "\n",
    "import tensorflow as tf\n",
    "from tensorflow.contrib.keras.python import keras\n",
    "from tensorflow.contrib.keras.python.keras import preprocessing\n",
    "from tensorflow.contrib.keras.python.keras.preprocessing.text import Tokenizer\n",
    "from tensorflow.contrib.keras.python.keras.models import Sequential\n",
    "from tensorflow.contrib.keras.python.keras.layers import Dense, Dropout, LSTM, Reshape\n",
    "from tensorflow.contrib.keras.python.keras.optimizers import Adam\n",
    "\n",
    "import numpy as np\n",
    "import pandas"
   ]
  },
  {
   "cell_type": "code",
   "execution_count": 3,
   "metadata": {},
   "outputs": [
    {
     "name": "stdout",
     "output_type": "stream",
     "text": [
      "1.2.1\n"
     ]
    }
   ],
   "source": [
    "print (tf.__version__) # Must be v1.2+"
   ]
  },
  {
   "cell_type": "code",
   "execution_count": 4,
   "metadata": {},
   "outputs": [
    {
     "data": {
      "text/html": [
       "<div>\n",
       "<table border=\"1\" class=\"dataframe\">\n",
       "  <thead>\n",
       "    <tr style=\"text-align: right;\">\n",
       "      <th></th>\n",
       "      <th>name</th>\n",
       "      <th>red</th>\n",
       "      <th>green</th>\n",
       "      <th>blue</th>\n",
       "    </tr>\n",
       "  </thead>\n",
       "  <tbody>\n",
       "    <tr>\n",
       "      <th>0</th>\n",
       "      <td>parakeet</td>\n",
       "      <td>174</td>\n",
       "      <td>182</td>\n",
       "      <td>87</td>\n",
       "    </tr>\n",
       "    <tr>\n",
       "      <th>1</th>\n",
       "      <td>saddle brown</td>\n",
       "      <td>88</td>\n",
       "      <td>52</td>\n",
       "      <td>1</td>\n",
       "    </tr>\n",
       "    <tr>\n",
       "      <th>2</th>\n",
       "      <td>cucumber crush</td>\n",
       "      <td>222</td>\n",
       "      <td>237</td>\n",
       "      <td>215</td>\n",
       "    </tr>\n",
       "    <tr>\n",
       "      <th>3</th>\n",
       "      <td>pool blue</td>\n",
       "      <td>134</td>\n",
       "      <td>194</td>\n",
       "      <td>201</td>\n",
       "    </tr>\n",
       "    <tr>\n",
       "      <th>4</th>\n",
       "      <td>distance</td>\n",
       "      <td>98</td>\n",
       "      <td>110</td>\n",
       "      <td>130</td>\n",
       "    </tr>\n",
       "    <tr>\n",
       "      <th>5</th>\n",
       "      <td>light urple</td>\n",
       "      <td>179</td>\n",
       "      <td>111</td>\n",
       "      <td>246</td>\n",
       "    </tr>\n",
       "    <tr>\n",
       "      <th>6</th>\n",
       "      <td>east side</td>\n",
       "      <td>172</td>\n",
       "      <td>145</td>\n",
       "      <td>206</td>\n",
       "    </tr>\n",
       "    <tr>\n",
       "      <th>7</th>\n",
       "      <td>florida seashells</td>\n",
       "      <td>250</td>\n",
       "      <td>228</td>\n",
       "      <td>199</td>\n",
       "    </tr>\n",
       "    <tr>\n",
       "      <th>8</th>\n",
       "      <td>paris</td>\n",
       "      <td>145</td>\n",
       "      <td>167</td>\n",
       "      <td>189</td>\n",
       "    </tr>\n",
       "    <tr>\n",
       "      <th>9</th>\n",
       "      <td>powder blush</td>\n",
       "      <td>247</td>\n",
       "      <td>215</td>\n",
       "      <td>215</td>\n",
       "    </tr>\n",
       "    <tr>\n",
       "      <th>10</th>\n",
       "      <td>middle blue</td>\n",
       "      <td>126</td>\n",
       "      <td>212</td>\n",
       "      <td>230</td>\n",
       "    </tr>\n",
       "    <tr>\n",
       "      <th>11</th>\n",
       "      <td>turtle green</td>\n",
       "      <td>165</td>\n",
       "      <td>171</td>\n",
       "      <td>139</td>\n",
       "    </tr>\n",
       "    <tr>\n",
       "      <th>12</th>\n",
       "      <td>relaxing blue</td>\n",
       "      <td>137</td>\n",
       "      <td>156</td>\n",
       "      <td>171</td>\n",
       "    </tr>\n",
       "    <tr>\n",
       "      <th>13</th>\n",
       "      <td>wasabi powder</td>\n",
       "      <td>189</td>\n",
       "      <td>179</td>\n",
       "      <td>144</td>\n",
       "    </tr>\n",
       "    <tr>\n",
       "      <th>14</th>\n",
       "      <td>rosemary sprig</td>\n",
       "      <td>97</td>\n",
       "      <td>104</td>\n",
       "      <td>81</td>\n",
       "    </tr>\n",
       "    <tr>\n",
       "      <th>15</th>\n",
       "      <td>light mauve</td>\n",
       "      <td>194</td>\n",
       "      <td>146</td>\n",
       "      <td>161</td>\n",
       "    </tr>\n",
       "    <tr>\n",
       "      <th>16</th>\n",
       "      <td>airbrushed copper</td>\n",
       "      <td>170</td>\n",
       "      <td>108</td>\n",
       "      <td>82</td>\n",
       "    </tr>\n",
       "    <tr>\n",
       "      <th>17</th>\n",
       "      <td>snow flurry</td>\n",
       "      <td>228</td>\n",
       "      <td>255</td>\n",
       "      <td>209</td>\n",
       "    </tr>\n",
       "    <tr>\n",
       "      <th>18</th>\n",
       "      <td>aurora brown</td>\n",
       "      <td>108</td>\n",
       "      <td>69</td>\n",
       "      <td>57</td>\n",
       "    </tr>\n",
       "    <tr>\n",
       "      <th>19</th>\n",
       "      <td>gold buff</td>\n",
       "      <td>235</td>\n",
       "      <td>188</td>\n",
       "      <td>126</td>\n",
       "    </tr>\n",
       "    <tr>\n",
       "      <th>20</th>\n",
       "      <td>antiquarian brown</td>\n",
       "      <td>148</td>\n",
       "      <td>108</td>\n",
       "      <td>70</td>\n",
       "    </tr>\n",
       "    <tr>\n",
       "      <th>21</th>\n",
       "      <td>sophisticated lilac</td>\n",
       "      <td>149</td>\n",
       "      <td>108</td>\n",
       "      <td>136</td>\n",
       "    </tr>\n",
       "    <tr>\n",
       "      <th>22</th>\n",
       "      <td>sweet peach</td>\n",
       "      <td>252</td>\n",
       "      <td>227</td>\n",
       "      <td>208</td>\n",
       "    </tr>\n",
       "    <tr>\n",
       "      <th>23</th>\n",
       "      <td>yellow ochre</td>\n",
       "      <td>203</td>\n",
       "      <td>157</td>\n",
       "      <td>6</td>\n",
       "    </tr>\n",
       "    <tr>\n",
       "      <th>24</th>\n",
       "      <td>nostalgic</td>\n",
       "      <td>100</td>\n",
       "      <td>107</td>\n",
       "      <td>126</td>\n",
       "    </tr>\n",
       "    <tr>\n",
       "      <th>25</th>\n",
       "      <td>invitation gold</td>\n",
       "      <td>166</td>\n",
       "      <td>118</td>\n",
       "      <td>64</td>\n",
       "    </tr>\n",
       "    <tr>\n",
       "      <th>26</th>\n",
       "      <td>griffin</td>\n",
       "      <td>111</td>\n",
       "      <td>101</td>\n",
       "      <td>89</td>\n",
       "    </tr>\n",
       "    <tr>\n",
       "      <th>27</th>\n",
       "      <td>estate vineyard</td>\n",
       "      <td>101</td>\n",
       "      <td>66</td>\n",
       "      <td>73</td>\n",
       "    </tr>\n",
       "    <tr>\n",
       "      <th>28</th>\n",
       "      <td>delightful</td>\n",
       "      <td>212</td>\n",
       "      <td>182</td>\n",
       "      <td>190</td>\n",
       "    </tr>\n",
       "    <tr>\n",
       "      <th>29</th>\n",
       "      <td>hurricane</td>\n",
       "      <td>135</td>\n",
       "      <td>124</td>\n",
       "      <td>123</td>\n",
       "    </tr>\n",
       "    <tr>\n",
       "      <th>...</th>\n",
       "      <td>...</td>\n",
       "      <td>...</td>\n",
       "      <td>...</td>\n",
       "      <td>...</td>\n",
       "    </tr>\n",
       "    <tr>\n",
       "      <th>14127</th>\n",
       "      <td>festival green</td>\n",
       "      <td>98</td>\n",
       "      <td>169</td>\n",
       "      <td>56</td>\n",
       "    </tr>\n",
       "    <tr>\n",
       "      <th>14128</th>\n",
       "      <td>osage orange</td>\n",
       "      <td>244</td>\n",
       "      <td>166</td>\n",
       "      <td>62</td>\n",
       "    </tr>\n",
       "    <tr>\n",
       "      <th>14129</th>\n",
       "      <td>unique gray</td>\n",
       "      <td>203</td>\n",
       "      <td>201</td>\n",
       "      <td>204</td>\n",
       "    </tr>\n",
       "    <tr>\n",
       "      <th>14130</th>\n",
       "      <td>light red</td>\n",
       "      <td>255</td>\n",
       "      <td>71</td>\n",
       "      <td>76</td>\n",
       "    </tr>\n",
       "    <tr>\n",
       "      <th>14131</th>\n",
       "      <td>orange appeal</td>\n",
       "      <td>238</td>\n",
       "      <td>168</td>\n",
       "      <td>105</td>\n",
       "    </tr>\n",
       "    <tr>\n",
       "      <th>14132</th>\n",
       "      <td>pine grove</td>\n",
       "      <td>126</td>\n",
       "      <td>119</td>\n",
       "      <td>91</td>\n",
       "    </tr>\n",
       "    <tr>\n",
       "      <th>14133</th>\n",
       "      <td>hot lips</td>\n",
       "      <td>189</td>\n",
       "      <td>67</td>\n",
       "      <td>128</td>\n",
       "    </tr>\n",
       "    <tr>\n",
       "      <th>14134</th>\n",
       "      <td>oregano</td>\n",
       "      <td>141</td>\n",
       "      <td>137</td>\n",
       "      <td>64</td>\n",
       "    </tr>\n",
       "    <tr>\n",
       "      <th>14135</th>\n",
       "      <td>rosy brown</td>\n",
       "      <td>188</td>\n",
       "      <td>143</td>\n",
       "      <td>143</td>\n",
       "    </tr>\n",
       "    <tr>\n",
       "      <th>14136</th>\n",
       "      <td>brazil</td>\n",
       "      <td>136</td>\n",
       "      <td>98</td>\n",
       "      <td>33</td>\n",
       "    </tr>\n",
       "    <tr>\n",
       "      <th>14137</th>\n",
       "      <td>pilgrimage foliage</td>\n",
       "      <td>174</td>\n",
       "      <td>90</td>\n",
       "      <td>54</td>\n",
       "    </tr>\n",
       "    <tr>\n",
       "      <th>14138</th>\n",
       "      <td>olympic range</td>\n",
       "      <td>67</td>\n",
       "      <td>77</td>\n",
       "      <td>70</td>\n",
       "    </tr>\n",
       "    <tr>\n",
       "      <th>14139</th>\n",
       "      <td>heather field</td>\n",
       "      <td>139</td>\n",
       "      <td>139</td>\n",
       "      <td>147</td>\n",
       "    </tr>\n",
       "    <tr>\n",
       "      <th>14140</th>\n",
       "      <td>winter gray</td>\n",
       "      <td>209</td>\n",
       "      <td>206</td>\n",
       "      <td>215</td>\n",
       "    </tr>\n",
       "    <tr>\n",
       "      <th>14141</th>\n",
       "      <td>rose linen</td>\n",
       "      <td>231</td>\n",
       "      <td>173</td>\n",
       "      <td>163</td>\n",
       "    </tr>\n",
       "    <tr>\n",
       "      <th>14142</th>\n",
       "      <td>socialite</td>\n",
       "      <td>146</td>\n",
       "      <td>119</td>\n",
       "      <td>120</td>\n",
       "    </tr>\n",
       "    <tr>\n",
       "      <th>14143</th>\n",
       "      <td>blackout</td>\n",
       "      <td>65</td>\n",
       "      <td>63</td>\n",
       "      <td>63</td>\n",
       "    </tr>\n",
       "    <tr>\n",
       "      <th>14144</th>\n",
       "      <td>party peach</td>\n",
       "      <td>253</td>\n",
       "      <td>164</td>\n",
       "      <td>104</td>\n",
       "    </tr>\n",
       "    <tr>\n",
       "      <th>14145</th>\n",
       "      <td>dark medium gray</td>\n",
       "      <td>169</td>\n",
       "      <td>169</td>\n",
       "      <td>169</td>\n",
       "    </tr>\n",
       "    <tr>\n",
       "      <th>14146</th>\n",
       "      <td>argos</td>\n",
       "      <td>185</td>\n",
       "      <td>187</td>\n",
       "      <td>182</td>\n",
       "    </tr>\n",
       "    <tr>\n",
       "      <th>14147</th>\n",
       "      <td>princess ivory</td>\n",
       "      <td>249</td>\n",
       "      <td>234</td>\n",
       "      <td>216</td>\n",
       "    </tr>\n",
       "    <tr>\n",
       "      <th>14148</th>\n",
       "      <td>trailing vine</td>\n",
       "      <td>89</td>\n",
       "      <td>105</td>\n",
       "      <td>82</td>\n",
       "    </tr>\n",
       "    <tr>\n",
       "      <th>14149</th>\n",
       "      <td>coco malt</td>\n",
       "      <td>230</td>\n",
       "      <td>220</td>\n",
       "      <td>203</td>\n",
       "    </tr>\n",
       "    <tr>\n",
       "      <th>14150</th>\n",
       "      <td>cayenne</td>\n",
       "      <td>196</td>\n",
       "      <td>75</td>\n",
       "      <td>47</td>\n",
       "    </tr>\n",
       "    <tr>\n",
       "      <th>14151</th>\n",
       "      <td>kobe</td>\n",
       "      <td>136</td>\n",
       "      <td>45</td>\n",
       "      <td>23</td>\n",
       "    </tr>\n",
       "    <tr>\n",
       "      <th>14152</th>\n",
       "      <td>fire mist</td>\n",
       "      <td>251</td>\n",
       "      <td>216</td>\n",
       "      <td>197</td>\n",
       "    </tr>\n",
       "    <tr>\n",
       "      <th>14153</th>\n",
       "      <td>spanish leather</td>\n",
       "      <td>143</td>\n",
       "      <td>102</td>\n",
       "      <td>54</td>\n",
       "    </tr>\n",
       "    <tr>\n",
       "      <th>14154</th>\n",
       "      <td>aquatone</td>\n",
       "      <td>165</td>\n",
       "      <td>180</td>\n",
       "      <td>170</td>\n",
       "    </tr>\n",
       "    <tr>\n",
       "      <th>14155</th>\n",
       "      <td>bottle green</td>\n",
       "      <td>9</td>\n",
       "      <td>54</td>\n",
       "      <td>36</td>\n",
       "    </tr>\n",
       "    <tr>\n",
       "      <th>14156</th>\n",
       "      <td>tandoori spice</td>\n",
       "      <td>172</td>\n",
       "      <td>112</td>\n",
       "      <td>107</td>\n",
       "    </tr>\n",
       "  </tbody>\n",
       "</table>\n",
       "<p>14157 rows × 4 columns</p>\n",
       "</div>"
      ],
      "text/plain": [
       "                      name  red  green  blue\n",
       "0                 parakeet  174    182    87\n",
       "1             saddle brown   88     52     1\n",
       "2           cucumber crush  222    237   215\n",
       "3                pool blue  134    194   201\n",
       "4                 distance   98    110   130\n",
       "5              light urple  179    111   246\n",
       "6                east side  172    145   206\n",
       "7        florida seashells  250    228   199\n",
       "8                    paris  145    167   189\n",
       "9             powder blush  247    215   215\n",
       "10             middle blue  126    212   230\n",
       "11            turtle green  165    171   139\n",
       "12           relaxing blue  137    156   171\n",
       "13           wasabi powder  189    179   144\n",
       "14          rosemary sprig   97    104    81\n",
       "15             light mauve  194    146   161\n",
       "16       airbrushed copper  170    108    82\n",
       "17             snow flurry  228    255   209\n",
       "18            aurora brown  108     69    57\n",
       "19               gold buff  235    188   126\n",
       "20       antiquarian brown  148    108    70\n",
       "21     sophisticated lilac  149    108   136\n",
       "22             sweet peach  252    227   208\n",
       "23            yellow ochre  203    157     6\n",
       "24               nostalgic  100    107   126\n",
       "25         invitation gold  166    118    64\n",
       "26                 griffin  111    101    89\n",
       "27         estate vineyard  101     66    73\n",
       "28              delightful  212    182   190\n",
       "29               hurricane  135    124   123\n",
       "...                    ...  ...    ...   ...\n",
       "14127       festival green   98    169    56\n",
       "14128         osage orange  244    166    62\n",
       "14129          unique gray  203    201   204\n",
       "14130            light red  255     71    76\n",
       "14131        orange appeal  238    168   105\n",
       "14132           pine grove  126    119    91\n",
       "14133             hot lips  189     67   128\n",
       "14134              oregano  141    137    64\n",
       "14135           rosy brown  188    143   143\n",
       "14136               brazil  136     98    33\n",
       "14137   pilgrimage foliage  174     90    54\n",
       "14138        olympic range   67     77    70\n",
       "14139        heather field  139    139   147\n",
       "14140          winter gray  209    206   215\n",
       "14141           rose linen  231    173   163\n",
       "14142            socialite  146    119   120\n",
       "14143             blackout   65     63    63\n",
       "14144          party peach  253    164   104\n",
       "14145     dark medium gray  169    169   169\n",
       "14146                argos  185    187   182\n",
       "14147       princess ivory  249    234   216\n",
       "14148        trailing vine   89    105    82\n",
       "14149            coco malt  230    220   203\n",
       "14150              cayenne  196     75    47\n",
       "14151                 kobe  136     45    23\n",
       "14152            fire mist  251    216   197\n",
       "14153      spanish leather  143    102    54\n",
       "14154             aquatone  165    180   170\n",
       "14155         bottle green    9     54    36\n",
       "14156       tandoori spice  172    112   107\n",
       "\n",
       "[14157 rows x 4 columns]"
      ]
     },
     "execution_count": 4,
     "metadata": {},
     "output_type": "execute_result"
    }
   ],
   "source": [
    "# for this exercise, we won't split the data into train/test\n",
    "# instead, we'll use a small piece of it as validation data\n",
    "# as we train the model\n",
    "\n",
    "# see above for the link to the csv\n",
    "data = pandas.read_csv('colors.csv')\n",
    "data"
   ]
  },
  {
   "cell_type": "code",
   "execution_count": 5,
   "metadata": {
    "collapsed": true
   },
   "outputs": [],
   "source": [
    "names = data[\"name\"]"
   ]
  },
  {
   "cell_type": "code",
   "execution_count": 6,
   "metadata": {
    "collapsed": true
   },
   "outputs": [],
   "source": [
    "maxlen = 25\n",
    "t = Tokenizer(char_level=True)\n",
    "t.fit_on_texts(names)\n",
    "tokenized = t.texts_to_sequences(names)\n",
    "padded_names = preprocessing.sequence.pad_sequences(tokenized, maxlen=maxlen)"
   ]
  },
  {
   "cell_type": "code",
   "execution_count": 7,
   "metadata": {
    "collapsed": true
   },
   "outputs": [],
   "source": [
    "# The RGB values are between 0 - 255\n",
    "# scale them to be between 0 - 1\n",
    "def norm(value):\n",
    "    return value / 255.0\n",
    "\n",
    "normalized_values = np.column_stack([norm(data[\"red\"]), norm(data[\"green\"]), norm(data[\"blue\"])])\n",
    "#values.shape"
   ]
  },
  {
   "cell_type": "code",
   "execution_count": 8,
   "metadata": {},
   "outputs": [
    {
     "name": "stdout",
     "output_type": "stream",
     "text": [
      "_________________________________________________________________\n",
      "Layer (type)                 Output Shape              Param #   \n",
      "=================================================================\n",
      "reshape_1 (Reshape)          (None, 1, 25)             0         \n",
      "_________________________________________________________________\n",
      "lstm_1 (LSTM)                (None, None, 256)         288768    \n",
      "_________________________________________________________________\n",
      "lstm_2 (LSTM)                (None, 128)               197120    \n",
      "_________________________________________________________________\n",
      "dense_1 (Dense)              (None, 128)               16512     \n",
      "_________________________________________________________________\n",
      "dense_2 (Dense)              (None, 3)                 387       \n",
      "=================================================================\n",
      "Total params: 502,787\n",
      "Trainable params: 502,787\n",
      "Non-trainable params: 0\n",
      "_________________________________________________________________\n"
     ]
    }
   ],
   "source": [
    "model = Sequential()\n",
    "model.add(Reshape((1, maxlen), input_shape=(maxlen,)))\n",
    "model.add(LSTM(256, return_sequences=True))\n",
    "model.add(LSTM(128))\n",
    "model.add(Dense(128, activation='relu'))\n",
    "model.add(Dense(3, activation='sigmoid'))\n",
    "model.compile(optimizer='adam', loss='mse')\n",
    "model.summary()"
   ]
  },
  {
   "cell_type": "code",
   "execution_count": 9,
   "metadata": {},
   "outputs": [
    {
     "name": "stdout",
     "output_type": "stream",
     "text": [
      "Train on 12741 samples, validate on 1416 samples\n",
      "Epoch 1/40\n",
      "12741/12741 [==============================] - 8s - loss: 0.0628 - val_loss: 0.0636\n",
      "Epoch 2/40\n",
      "12741/12741 [==============================] - 7s - loss: 0.0590 - val_loss: 0.0616\n",
      "Epoch 3/40\n",
      "12741/12741 [==============================] - 7s - loss: 0.0571 - val_loss: 0.0590\n",
      "Epoch 4/40\n",
      "12741/12741 [==============================] - 7s - loss: 0.0552 - val_loss: 0.0594\n",
      "Epoch 5/40\n",
      "12741/12741 [==============================] - 7s - loss: 0.0536 - val_loss: 0.0585\n",
      "Epoch 6/40\n",
      "12741/12741 [==============================] - 8s - loss: 0.0520 - val_loss: 0.0583\n",
      "Epoch 7/40\n",
      "12741/12741 [==============================] - 9s - loss: 0.0505 - val_loss: 0.0582\n",
      "Epoch 8/40\n",
      "12741/12741 [==============================] - 8s - loss: 0.0490 - val_loss: 0.0578\n",
      "Epoch 9/40\n",
      "12741/12741 [==============================] - 8s - loss: 0.0473 - val_loss: 0.0582\n",
      "Epoch 10/40\n",
      "12741/12741 [==============================] - 8s - loss: 0.0460 - val_loss: 0.0573\n",
      "Epoch 11/40\n",
      "12741/12741 [==============================] - 7s - loss: 0.0443 - val_loss: 0.0582\n",
      "Epoch 12/40\n",
      "12741/12741 [==============================] - 7s - loss: 0.0430 - val_loss: 0.0569\n",
      "Epoch 13/40\n",
      "12741/12741 [==============================] - 7s - loss: 0.0414 - val_loss: 0.0571\n",
      "Epoch 14/40\n",
      "12741/12741 [==============================] - 8s - loss: 0.0399 - val_loss: 0.0591\n",
      "Epoch 15/40\n",
      "12741/12741 [==============================] - 7s - loss: 0.0383 - val_loss: 0.0583\n",
      "Epoch 16/40\n",
      "12741/12741 [==============================] - 7s - loss: 0.0367 - val_loss: 0.0574\n",
      "Epoch 17/40\n",
      "12741/12741 [==============================] - 8s - loss: 0.0356 - val_loss: 0.0593\n",
      "Epoch 18/40\n",
      "12741/12741 [==============================] - 7s - loss: 0.0340 - val_loss: 0.0597\n",
      "Epoch 19/40\n",
      "12741/12741 [==============================] - 7s - loss: 0.0326 - val_loss: 0.0609\n",
      "Epoch 20/40\n",
      "12741/12741 [==============================] - 7s - loss: 0.0311 - val_loss: 0.0612\n",
      "Epoch 21/40\n",
      "12741/12741 [==============================] - 7s - loss: 0.0298 - val_loss: 0.0614\n",
      "Epoch 22/40\n",
      "12741/12741 [==============================] - 7s - loss: 0.0287 - val_loss: 0.0622\n",
      "Epoch 23/40\n",
      "12741/12741 [==============================] - 7s - loss: 0.0276 - val_loss: 0.0634\n",
      "Epoch 24/40\n",
      "12741/12741 [==============================] - 7s - loss: 0.0264 - val_loss: 0.0635\n",
      "Epoch 25/40\n",
      "12741/12741 [==============================] - 7s - loss: 0.0256 - val_loss: 0.0634\n",
      "Epoch 26/40\n",
      "12741/12741 [==============================] - 7s - loss: 0.0244 - val_loss: 0.0635\n",
      "Epoch 27/40\n",
      "12741/12741 [==============================] - 7s - loss: 0.0233 - val_loss: 0.0645\n",
      "Epoch 28/40\n",
      "12741/12741 [==============================] - 7s - loss: 0.0225 - val_loss: 0.0634\n",
      "Epoch 29/40\n",
      "12741/12741 [==============================] - 7s - loss: 0.0216 - val_loss: 0.0645\n",
      "Epoch 30/40\n",
      "12741/12741 [==============================] - 7s - loss: 0.0206 - val_loss: 0.0661\n",
      "Epoch 31/40\n",
      "12741/12741 [==============================] - 7s - loss: 0.0199 - val_loss: 0.0677\n",
      "Epoch 32/40\n",
      "12741/12741 [==============================] - 7s - loss: 0.0192 - val_loss: 0.0668\n",
      "Epoch 33/40\n",
      "12741/12741 [==============================] - 7s - loss: 0.0188 - val_loss: 0.0669\n",
      "Epoch 34/40\n",
      "12741/12741 [==============================] - 7s - loss: 0.0179 - val_loss: 0.0673\n",
      "Epoch 35/40\n",
      "12741/12741 [==============================] - 7s - loss: 0.0173 - val_loss: 0.0684\n",
      "Epoch 36/40\n",
      "12741/12741 [==============================] - 7s - loss: 0.0169 - val_loss: 0.0677\n",
      "Epoch 37/40\n",
      "12741/12741 [==============================] - 7s - loss: 0.0162 - val_loss: 0.0680\n",
      "Epoch 38/40\n",
      "12741/12741 [==============================] - 7s - loss: 0.0158 - val_loss: 0.0670\n",
      "Epoch 39/40\n",
      "12741/12741 [==============================] - 7s - loss: 0.0153 - val_loss: 0.0692\n",
      "Epoch 40/40\n",
      "12741/12741 [==============================] - 8s - loss: 0.0147 - val_loss: 0.0679\n"
     ]
    }
   ],
   "source": [
    "# we're going to massively overfit on the training\n",
    "# data... that's fine for now\n",
    "history = model.fit(padded_names, normalized_values,\n",
    "                    epochs=40,\n",
    "                    batch_size=32,\n",
    "                    validation_split=0.1)"
   ]
  },
  {
   "cell_type": "code",
   "execution_count": 10,
   "metadata": {},
   "outputs": [
    {
     "data": {
      "image/png": "[encoded data removed]",
      "text/plain": [
       "<matplotlib.figure.Figure at 0x11fd27650>"
      ]
     },
     "metadata": {},
     "output_type": "display_data"
    }
   ],
   "source": [
    "# let's see how badly we've overfit.\n",
    "import matplotlib.pyplot as plt\n",
    "%matplotlib inline\n",
    "loss = history.history['loss']\n",
    "val_loss = history.history['val_loss']\n",
    "epochs = range(len(loss))\n",
    "plt.plot(epochs, loss, 'bo')\n",
    "plt.plot(epochs, val_loss, 'b')\n",
    "plt.title('Training and validation loss')\n",
    "plt.show()"
   ]
  },
  {
   "cell_type": "code",
   "execution_count": 11,
   "metadata": {
    "collapsed": true
   },
   "outputs": [],
   "source": [
    "# plots a color image\n",
    "def plot_rgb(rgb):\n",
    "    data = [[rgb]]\n",
    "    plt.figure(figsize=(2,2))\n",
    "    plt.imshow(data, interpolation='nearest')\n",
    "    plt.show()"
   ]
  },
  {
   "cell_type": "code",
   "execution_count": 12,
   "metadata": {
    "collapsed": true
   },
   "outputs": [],
   "source": [
    "def scale(n):\n",
    "    return int(n * 255) "
   ]
  },
  {
   "cell_type": "code",
   "execution_count": 13,
   "metadata": {
    "collapsed": true
   },
   "outputs": [],
   "source": [
    "def predict(name):\n",
    "    tokenized = t.texts_to_sequences([name])\n",
    "    padded = preprocessing.sequence.pad_sequences(tokenized, maxlen=maxlen)\n",
    "    pred = model.predict(np.array(padded))[0]\n",
    "    r, g, b = scale(pred[0]), scale(pred[1]), scale(pred[2])\n",
    "    print(name + ',', 'R,G,B:', r,g,b)\n",
    "    plot_rgb(pred)"
   ]
  },
  {
   "cell_type": "code",
   "execution_count": 15,
   "metadata": {},
   "outputs": [
    {
     "name": "stdout",
     "output_type": "stream",
     "text": [
      "light blue, R,G,B: 95 158 197\n"
     ]
    },
    {
     "data": {
      "image/png": "[encoded data removed]",
      "text/plain": [
       "<matplotlib.figure.Figure at 0x11f267c10>"
      ]
     },
     "metadata": {},
     "output_type": "display_data"
    },
    {
     "name": "stdout",
     "output_type": "stream",
     "text": [
      "blue, R,G,B: 17 36 173\n"
     ]
    },
    {
     "data": {
      "image/png": "[encoded data removed]",
      "text/plain": [
       "<matplotlib.figure.Figure at 0x11be23ed0>"
      ]
     },
     "metadata": {},
     "output_type": "display_data"
    },
    {
     "name": "stdout",
     "output_type": "stream",
     "text": [
      "dark blue, R,G,B: 12 23 120\n"
     ]
    },
    {
     "data": {
      "image/png": "[encoded data removed]",
      "text/plain": [
       "<matplotlib.figure.Figure at 0x11baee710>"
      ]
     },
     "metadata": {},
     "output_type": "display_data"
    }
   ],
   "source": [
    "# some \"test\" data\n",
    "predict(\"light blue\")\n",
    "predict(\"blue\")\n",
    "predict(\"dark blue\")"
   ]
  },
  {
   "cell_type": "code",
   "execution_count": 16,
   "metadata": {},
   "outputs": [
    {
     "name": "stdout",
     "output_type": "stream",
     "text": [
      "light red, R,G,B: 226 193 196\n"
     ]
    },
    {
     "data": {
      "image/png": "[encoded data removed]",
      "text/plain": [
       "<matplotlib.figure.Figure at 0x10e728e90>"
      ]
     },
     "metadata": {},
     "output_type": "display_data"
    },
    {
     "name": "stdout",
     "output_type": "stream",
     "text": [
      "red, R,G,B: 225 32 37\n"
     ]
    },
    {
     "data": {
      "image/png": "[encoded data removed]",
      "text/plain": [
       "<matplotlib.figure.Figure at 0x1179f1fd0>"
      ]
     },
     "metadata": {},
     "output_type": "display_data"
    },
    {
     "name": "stdout",
     "output_type": "stream",
     "text": [
      "dark red, R,G,B: 151 27 26\n"
     ]
    },
    {
     "data": {
      "image/png": "[encoded data removed]",
      "text/plain": [
       "<matplotlib.figure.Figure at 0x11fd7fc10>"
      ]
     },
     "metadata": {},
     "output_type": "display_data"
    }
   ],
   "source": [
    "predict(\"light red\")\n",
    "predict(\"red\")\n",
    "predict(\"dark red\")"
   ]
  },
  {
   "cell_type": "code",
   "execution_count": 17,
   "metadata": {},
   "outputs": [
    {
     "name": "stdout",
     "output_type": "stream",
     "text": [
      "light orange, R,G,B: 236 174 101\n"
     ]
    },
    {
     "data": {
      "image/png": "[encoded data removed]",
      "text/plain": [
       "<matplotlib.figure.Figure at 0x11f267c10>"
      ]
     },
     "metadata": {},
     "output_type": "display_data"
    },
    {
     "name": "stdout",
     "output_type": "stream",
     "text": [
      "orange, R,G,B: 194 87 65\n"
     ]
    },
    {
     "data": {
      "image/png": "[encoded data removed]",
      "text/plain": [
       "<matplotlib.figure.Figure at 0x11f2f7fd0>"
      ]
     },
     "metadata": {},
     "output_type": "display_data"
    },
    {
     "name": "stdout",
     "output_type": "stream",
     "text": [
      "dark orange, R,G,B: 233 115 18\n"
     ]
    },
    {
     "data": {
      "image/png": "[encoded data removed]",
      "text/plain": [
       "<matplotlib.figure.Figure at 0x11f2b8c90>"
      ]
     },
     "metadata": {},
     "output_type": "display_data"
    }
   ],
   "source": [
    "predict(\"light orange\")\n",
    "predict(\"orange\")\n",
    "predict(\"dark orange\")"
   ]
  },
  {
   "cell_type": "code",
   "execution_count": 18,
   "metadata": {},
   "outputs": [
    {
     "name": "stdout",
     "output_type": "stream",
     "text": [
      "black, R,G,B: 29 32 44\n"
     ]
    },
    {
     "data": {
      "image/png": "[encoded data removed]",
      "text/plain": [
       "<matplotlib.figure.Figure at 0x11f2a7650>"
      ]
     },
     "metadata": {},
     "output_type": "display_data"
    },
    {
     "name": "stdout",
     "output_type": "stream",
     "text": [
      "white, R,G,B: 232 242 238\n"
     ]
    },
    {
     "data": {
      "image/png": "[encoded data removed]",
      "text/plain": [
       "<matplotlib.figure.Figure at 0x11f2f7fd0>"
      ]
     },
     "metadata": {},
     "output_type": "display_data"
    }
   ],
   "source": [
    "predict(\"black\")\n",
    "predict(\"white\")"
   ]
  },
  {
   "cell_type": "code",
   "execution_count": 20,
   "metadata": {},
   "outputs": [
    {
     "name": "stdout",
     "output_type": "stream",
     "text": [
      "tensorflow orange, R,G,B: 223 94 52\n"
     ]
    },
    {
     "data": {
      "image/png": "[encoded data removed]",
      "text/plain": [
       "<matplotlib.figure.Figure at 0x11fd7fc10>"
      ]
     },
     "metadata": {},
     "output_type": "display_data"
    },
    {
     "name": "stdout",
     "output_type": "stream",
     "text": [
      "forest, R,G,B: 51 93 68\n"
     ]
    },
    {
     "data": {
      "image/png": "[encoded data removed]",
      "text/plain": [
       "<matplotlib.figure.Figure at 0x11c3e1c90>"
      ]
     },
     "metadata": {},
     "output_type": "display_data"
    },
    {
     "name": "stdout",
     "output_type": "stream",
     "text": [
      "evergreen, R,G,B: 41 99 19\n"
     ]
    },
    {
     "data": {
      "image/png": "[encoded data removed]",
      "text/plain": [
       "<matplotlib.figure.Figure at 0x1179f1fd0>"
      ]
     },
     "metadata": {},
     "output_type": "display_data"
    },
    {
     "name": "stdout",
     "output_type": "stream",
     "text": [
      "tangerine, R,G,B: 246 128 27\n"
     ]
    },
    {
     "data": {
      "image/png": "[encoded data removed]",
      "text/plain": [
       "<matplotlib.figure.Figure at 0x10e6ba490>"
      ]
     },
     "metadata": {},
     "output_type": "display_data"
    }
   ],
   "source": [
    "predict(\"tensorflow orange\")\n",
    "predict(\"forest\")\n",
    "predict(\"evergreen\")\n",
    "predict(\"tangerine\")"
   ]
  },
  {
   "cell_type": "code",
   "execution_count": null,
   "metadata": {
    "collapsed": true
   },
   "outputs": [],
   "source": []
  }
 ],
 "metadata": {
  "kernelspec": {
   "display_name": "Python 2",
   "language": "python",
   "name": "python2"
  },
  "language_info": {
   "codemirror_mode": {
    "name": "ipython",
    "version": 3
   },
   "file_extension": ".py",
   "mimetype": "text/x-python",
   "name": "python",
   "nbconvert_exporter": "python",
   "pygments_lexer": "ipython3",
   "version": "3.4.3"
  }
 },
 "nbformat": 4,
 "nbformat_minor": 2
}
