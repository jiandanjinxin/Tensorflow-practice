{
 "cells": [
  {
   "cell_type": "markdown",
   "metadata": {},
   "source": [
    "# Colorbot\n",
    "\n",
    "**Special thanks @MarkDaoustthat helped us with this material**\n",
    "\n",
    "In order to have a better experience follow these steps:\n",
    "\n",
    "1. Read all the notebook, try to understand what each part of the code is doing and get familiar with the implementation;\n",
    "2. For each exercise in this notebook make a copy of this notebook and try to implement what is expected. We suggest the following order for the exercises: *EXERCISE: HYPERPARAMETERS*, *EXERCISE: EXPERIMENT*, *EXERCISE: DATASET*;\n",
    "3. Troubles or doubts about the code/exercises? Ask the instructor about it or go to the end of this notebook for a possible implementation/instruction for the exercises.\n",
    "\n",
    "## Content of this notebook\n",
    "\n",
    "In this notebook you'll find a full implementation of a RNN model using the TensorFlow Estimators including comments and details about how to do it. \n",
    "\n",
    "Once you finish this notebook, you'll have a better understanding of:\n",
    "  * [TensorFlow Estimators](https://www.tensorflow.org/extend/estimators)\n",
    "  * [TensorFlow DataSets](https://github.com/tensorflow/tensorflow/tree/r1.2/tensorflow/contrib/data)\n",
    "  * [RNNs](http://colah.github.io/posts/2015-08-Understanding-LSTMs/)\n",
    "\n",
    "\n",
    "## What is colorbot?\n",
    "\n",
    "Colorbot is a RNN model that receives a word (sequence of characters) as input and learns to predict a rgb value that better represents this word. As a result we have a color generator!\n",
    "\n",
    "![colorbot in action](../../images/colorbot_gif.gif)"
   ]
  },
  {
   "cell_type": "markdown",
   "metadata": {},
   "source": [
    "## Dependencies"
   ]
  },
  {
   "cell_type": "code",
   "execution_count": 5,
   "metadata": {
    "colab": {
     "autoexec": {
      "startup": false,
      "wait_interval": 0
     }
    },
    "colab_type": "code",
    "id": "mDT8S9C9CYtr"
   },
   "outputs": [
    {
     "name": "stdout",
     "output_type": "stream",
     "text": [
      "Expected version: 1.2.0 or higher\n",
      "Your TensorFlow version: 1.2.1\n"
     ]
    }
   ],
   "source": [
    "from __future__ import absolute_import\n",
    "from __future__ import division\n",
    "from __future__ import print_function\n",
    "\n",
    "# Tensorflow\n",
    "import tensorflow as tf\n",
    "print('Expected version: 1.2.0 or higher')\n",
    "print('Your TensorFlow version:', tf.__version__) \n",
    "\n",
    "# Feeding function for enqueue data\n",
    "from tensorflow.python.estimator.inputs.queues import feeding_functions as ff\n",
    "\n",
    "# Rnn common functions\n",
    "from tensorflow.contrib.learn.python.learn.estimators import rnn_common\n",
    "\n",
    "# Run an experiment\n",
    "from tensorflow.contrib.learn.python.learn import learn_runner\n",
    "\n",
    "# Model builder\n",
    "from tensorflow.python.estimator import model_fn as model_fn_lib\n",
    "\n",
    "# Plot images with pyplot\n",
    "%matplotlib inline\n",
    "from matplotlib import pyplot as plt\n",
    "\n",
    "# Helpers for data processing\n",
    "import pandas as pd\n",
    "import numpy as np\n",
    "import argparse"
   ]
  },
  {
   "cell_type": "markdown",
   "metadata": {},
   "source": [
    "## Parameters"
   ]
  },
  {
   "cell_type": "code",
   "execution_count": 6,
   "metadata": {
    "colab": {
     "autoexec": {
      "startup": false,
      "wait_interval": 0
     }
    },
    "colab_type": "code",
    "collapsed": true,
    "id": "UrAyWt23AtCM"
   },
   "outputs": [],
   "source": [
    "# Data files\n",
    "TRAIN_INPUT = 'data/train.csv'\n",
    "TEST_INPUT = 'data/test.csv'\n",
    "MY_TEST_INPUT = 'data/mytest.csv'\n",
    "\n",
    "# Parameters for training\n",
    "BATCH_SIZE = 64\n",
    "\n",
    "# Parameters for data processing\n",
    "VOCAB_SIZE = 256\n",
    "CHARACTERS = [chr(i) for i in range(VOCAB_SIZE)]\n",
    "SEQUENCE_LENGTH_KEY = 'sequence_length'\n",
    "COLOR_NAME_KEY = 'color_name'"
   ]
  },
  {
   "cell_type": "markdown",
   "metadata": {},
   "source": [
    "## Helper functions"
   ]
  },
  {
   "cell_type": "code",
   "execution_count": 7,
   "metadata": {
    "colab": {
     "autoexec": {
      "startup": false,
      "wait_interval": 0
     }
    },
    "colab_type": "code",
    "collapsed": true,
    "id": "0dlZ9C27M-bS"
   },
   "outputs": [],
   "source": [
    "# Returns the column values from a CSV file as a list\n",
    "def _get_csv_column(csv_file, column_name):\n",
    "    with open(csv_file, 'r') as f:\n",
    "        df = pd.read_csv(f)\n",
    "        return df[column_name].tolist()\n",
    "\n",
    "# Plots a color image\n",
    "def _plot_rgb(rgb):\n",
    "    data = [[rgb]]\n",
    "    plt.figure(figsize=(2,2))\n",
    "    plt.imshow(data, interpolation='nearest')\n",
    "    plt.show()"
   ]
  },
  {
   "cell_type": "markdown",
   "metadata": {},
   "source": [
    "## Input function\n",
    "\n",
    "Here we are defining the input pipeline using the [Dataset API](https://github.com/tensorflow/tensorflow/tree/master/tensorflow/contrib/data).\n",
    "\n",
    "One more complex transformation that we're using is called **group_by_window**, what this function does is to map each consecutive element in this dataset to a key using `key_func` and then groups the elements by key. It then applies `reduce_func` to at most `window_size` elements matching the same key. All except the final window for each key will contain `window_size` elements; the final window may be smaller.\n",
    "\n",
    "In the code below what we're doing is using the **group_by_window** transformation to batch color names that have similar length together, this makes the code more efficient since the RNN will be unrroled (approximately) the same number of steps in each batch. This avoids that we waist space and computing time :)!\n",
    "\n",
    "![](../../images/batch_by_length.png)\n",
    "*Image from [Sequence Models and the RNN API (TensorFlow Dev Summit 2017)](https://www.youtube.com/watch?v=RIR_-Xlbp7s)*\n",
    "\n",
    "** *EXERCISE DATASET (first complete the EXERCISE EXPERIMENT: change the input function bellow so it will just use normal padded_batch instead sorting the batches. Then run each model using experiments and compare the efficiency (time, global_step/sec) using TensorBoard.\n",
    "hint: to compare the implementations using tensorboard just copy the model_dir folder of both executions to the same directory (the model dir should be different at each time you run the model) and point tensorboard to it with: tensorboard --logdir=path_to_model_dirs_par)* **"
   ]
  },
  {
   "cell_type": "code",
   "execution_count": 8,
   "metadata": {
    "collapsed": true
   },
   "outputs": [],
   "source": [
    "def get_input_fn(csv_file, batch_size, num_epochs=1, shuffle=True):\n",
    "    def _parse(line):\n",
    "        # each line: name, red, green, blue\n",
    "        # split line\n",
    "        items = tf.string_split([line],',').values\n",
    "\n",
    "        # get color (r, g, b)\n",
    "        color = tf.string_to_number(items[1:], out_type=tf.float32) / 255.0\n",
    "\n",
    "        # split color_name into a sequence of characters\n",
    "        color_name = tf.string_split([items[0]], '')\n",
    "        length = color_name.indices[-1, 1] + 1 # length = index of last char + 1\n",
    "        color_name = color_name.values\n",
    "        \n",
    "        return color, color_name, length\n",
    "\n",
    "    def _length_bin(length, cast_value=5, max_bin_id=10):\n",
    "        '''\n",
    "        Chooses a bin for a word given it's length.\n",
    "        The goal is to use group_by_window to group words\n",
    "        with the ~ same ~ length in the same bin.\n",
    "\n",
    "        Each bin will have the size of a batch, so it can train faster.\n",
    "        '''\n",
    "        bin_id = tf.cast(length / cast_value, dtype=tf.int64)\n",
    "        return tf.minimum(bin_id, max_bin_id)\n",
    "\n",
    "    def _pad_batch(ds, batch_size):\n",
    "        return ds.padded_batch(batch_size, \n",
    "                               padded_shapes=([None], [None], []),\n",
    "                               padding_values=(0.0, chr(0), tf.cast(0, tf.int64)))\n",
    "\n",
    "    def input_fn():\n",
    "        # https://github.com/tensorflow/tensorflow/tree/master/tensorflow/contrib/data\n",
    "        dataset = (\n",
    "            tf.contrib.data.TextLineDataset(csv_file) # reading from the HD\n",
    "            .skip(1) # skip header\n",
    "            .repeat(num_epochs) # repeat dataset the number of epochs\n",
    "            .map(_parse) # parse text to variables\n",
    "            .group_by_window(key_func=lambda color, color_name, length: _length_bin(length), # choose a bin\n",
    "                             reduce_func=lambda key, ds: _pad_batch(ds, batch_size), # apply reduce funtion\n",
    "                             window_size=batch_size)\n",
    "        )\n",
    "        \n",
    "        # for our \"manual\" test we don't want to shuffle the data\n",
    "        if shuffle:\n",
    "            dataset = dataset.shuffle(buffer_size=100000)\n",
    "\n",
    "        # create iterator\n",
    "        color, color_name, length = dataset.make_one_shot_iterator().get_next()\n",
    "\n",
    "        features = {\n",
    "            COLOR_NAME_KEY: color_name,\n",
    "            SEQUENCE_LENGTH_KEY: length,\n",
    "        }\n",
    "\n",
    "        return features, color\n",
    "    return input_fn"
   ]
  },
  {
   "cell_type": "code",
   "execution_count": 9,
   "metadata": {
    "colab": {
     "autoexec": {
      "startup": false,
      "wait_interval": 0
     }
    },
    "colab_type": "code",
    "collapsed": true,
    "id": "m5UJyvW5P0Sy"
   },
   "outputs": [],
   "source": [
    "train_input_fn = get_input_fn(TRAIN_INPUT, BATCH_SIZE)\n",
    "test_input_fn = get_input_fn(TEST_INPUT, BATCH_SIZE)"
   ]
  },
  {
   "cell_type": "markdown",
   "metadata": {},
   "source": [
    "Testing the input function"
   ]
  },
  {
   "cell_type": "code",
   "execution_count": 10,
   "metadata": {},
   "outputs": [
    {
     "name": "stdout",
     "output_type": "stream",
     "text": [
      "{'color_name': array([[b's', b'u', b'n', b'n', b'y']], dtype=object), 'sequence_length': array([5])}\n",
      "[[ 0.66274512  0.72941178  0.6156863 ]]\n"
     ]
    }
   ],
   "source": [
    "x, y = get_input_fn(TRAIN_INPUT, 1)()\n",
    "\n",
    "with tf.Session() as s:\n",
    "    print(s.run(x))\n",
    "    print(s.run(y))"
   ]
  },
  {
   "cell_type": "markdown",
   "metadata": {},
   "source": [
    "## Creating the Estimator model\n",
    "\n",
    "![](../../images/colorbot_model.png)"
   ]
  },
  {
   "cell_type": "code",
   "execution_count": 11,
   "metadata": {
    "colab": {
     "autoexec": {
      "startup": false,
      "wait_interval": 0
     }
    },
    "colab_type": "code",
    "collapsed": true,
    "id": "VxXAUrYN7TvR"
   },
   "outputs": [],
   "source": [
    "def get_model_fn(rnn_cell_sizes,\n",
    "                 label_dimension,\n",
    "                 dnn_layer_sizes=[],\n",
    "                 optimizer='SGD',\n",
    "                 learning_rate=0.01):\n",
    "    \n",
    "    def model_fn(features, labels, mode):\n",
    "        \n",
    "        color_name = features[COLOR_NAME_KEY]\n",
    "        sequence_length = tf.cast(features[SEQUENCE_LENGTH_KEY], dtype=tf.int32) # int64 -> int32\n",
    "        \n",
    "        # ----------- Preparing input --------------------\n",
    "        # Creating a tf constant to hold the map char -> index\n",
    "        mapping = tf.constant(CHARACTERS, name=\"mapping\")\n",
    "        table = tf.contrib.lookup.index_table_from_tensor(mapping, dtype=tf.string)\n",
    "        int_color_name = table.lookup(color_name)\n",
    "        \n",
    "        # Converting color names to one hot representation\n",
    "        color_name_onehot = tf.one_hot(int_color_name, depth=len(CHARACTERS) + 1)\n",
    "        \n",
    "        # ---------- RNN -------------------\n",
    "        # Each RNN layer will consist of a LSTM cell\n",
    "        rnn_layers = [tf.nn.rnn_cell.LSTMCell(size) for size in rnn_cell_sizes]\n",
    "        \n",
    "        # Construct the layers\n",
    "        multi_rnn_cell = tf.nn.rnn_cell.MultiRNNCell(rnn_layers)\n",
    "        \n",
    "        # Runs the RNN model dynamically\n",
    "        # more about it at: \n",
    "        # https://www.tensorflow.org/api_docs/python/tf/nn/dynamic_rnn\n",
    "        outputs, final_state = tf.nn.dynamic_rnn(cell=multi_rnn_cell,\n",
    "                                                 inputs=color_name_onehot,\n",
    "                                                 sequence_length=sequence_length,\n",
    "                                                 dtype=tf.float32)\n",
    "\n",
    "        # Slice to keep only the last cell of the RNN\n",
    "        last_activations = rnn_common.select_last_activations(outputs,\n",
    "                                                              sequence_length)\n",
    "\n",
    "        # ------------ Dense layers -------------------\n",
    "        # Construct dense layers on top of the last cell of the RNN\n",
    "        for units in dnn_layer_sizes:\n",
    "            last_activations = tf.layers.dense(\n",
    "              last_activations, units, activation=tf.nn.relu)\n",
    "        \n",
    "        # Final dense layer for prediction\n",
    "        predictions = tf.layers.dense(last_activations, label_dimension)\n",
    "\n",
    "        # ----------- Loss and Optimizer ----------------\n",
    "        loss = None\n",
    "        train_op = None\n",
    "\n",
    "        if mode != tf.estimator.ModeKeys.PREDICT:    \n",
    "            loss = tf.losses.mean_squared_error(labels, predictions)\n",
    "    \n",
    "        if mode == tf.estimator.ModeKeys.TRAIN:    \n",
    "            train_op = tf.contrib.layers.optimize_loss(\n",
    "              loss,\n",
    "              tf.contrib.framework.get_global_step(),\n",
    "              optimizer=optimizer,\n",
    "              learning_rate=learning_rate)\n",
    "        \n",
    "        return model_fn_lib.EstimatorSpec(mode,\n",
    "                                           predictions=predictions,\n",
    "                                           loss=loss,\n",
    "                                           train_op=train_op)\n",
    "    return model_fn"
   ]
  },
  {
   "cell_type": "markdown",
   "metadata": {},
   "source": [
    "** *EXERCISE HYPERPARAMETERS: try making changes to the model and see if you can improve the results.\n",
    "Run the original model, run yours and compare them using Tensorboard. What improvements do you see?  \n",
    "hint 0: change the type of RNNCell, maybe a GRUCell? Change the number of hidden layers, or add dnn layers.  \n",
    "hint 1: to compare the implementations using tensorboard just copy the model_dir folder of both executions to the same directory (the model dir should be different at each time you run the model) and point tensorboard to it with: tensorboard --logdir=path_to_model_dirs_par)* **"
   ]
  },
  {
   "cell_type": "code",
   "execution_count": 13,
   "metadata": {
    "colab": {
     "autoexec": {
      "startup": false,
      "wait_interval": 0
     }
    },
    "colab_type": "code",
    "id": "gUHR3Mzc7Tvb"
   },
   "outputs": [
    {
     "name": "stdout",
     "output_type": "stream",
     "text": [
      "INFO:tensorflow:Using default config.\n",
      "INFO:tensorflow:Using config: {'_save_checkpoints_steps': None, '_tf_random_seed': 1, '_session_config': None, '_save_summary_steps': 100, '_model_dir': 'colorbot', '_keep_checkpoint_max': 5, '_save_checkpoints_secs': 600, '_keep_checkpoint_every_n_hours': 10000}\n"
     ]
    }
   ],
   "source": [
    "model_fn = get_model_fn(rnn_cell_sizes=[256, 128], # size of the hidden layers\n",
    "                        label_dimension=3, # since is RGB\n",
    "                        dnn_layer_sizes=[128], # size of units in the dense layers on top of the RNN\n",
    "                        optimizer='Adam', # changing optimizer to Adam\n",
    "                        learning_rate=0.01)\n",
    "\n",
    "estimator = tf.estimator.Estimator(model_fn=model_fn, model_dir='colorbot')"
   ]
  },
  {
   "cell_type": "markdown",
   "metadata": {},
   "source": [
    "## Trainning and Evaluating\n",
    "\n",
    "** *EXERCISE EXPERIMENT: The code below works, but we can use an experiment instead. Add a cell that runs an experiment instead of interacting directly with the estimator.  \n",
    "hint 0: you'll need to change the train_input_fn definition, think about it...  \n",
    "hint 1: the change is related with the for loop* **"
   ]
  },
  {
   "cell_type": "code",
   "execution_count": 14,
   "metadata": {
    "colab": {
     "autoexec": {
      "startup": false,
      "wait_interval": 0
     }
    },
    "colab_type": "code",
    "id": "DUZEKQrdGgZE"
   },
   "outputs": [
    {
     "name": "stdout",
     "output_type": "stream",
     "text": [
      "Training epoch 0\n",
      "--------------------\n"
     ]
    },
    {
     "name": "stderr",
     "output_type": "stream",
     "text": [
      "/usr/local/lib/python3.4/dist-packages/tensorflow/python/ops/gradients_impl.py:93: UserWarning: Converting sparse IndexedSlices to a dense Tensor of unknown shape. This may consume a large amount of memory.\n",
      "  \"Converting sparse IndexedSlices to a dense Tensor of unknown shape. \"\n"
     ]
    },
    {
     "name": "stdout",
     "output_type": "stream",
     "text": [
      "INFO:tensorflow:Create CheckpointSaverHook.\n",
      "INFO:tensorflow:Saving checkpoints for 1 into colorbot/model.ckpt.\n",
      "INFO:tensorflow:step = 1, loss = 0.372918\n",
      "INFO:tensorflow:Saving checkpoints for 23 into colorbot/model.ckpt.\n",
      "INFO:tensorflow:Loss for final step: 0.0824605.\n",
      "Evaluating epoch 0\n",
      "--------------------\n",
      "INFO:tensorflow:Starting evaluation at 2017-08-03-15:00:38\n",
      "INFO:tensorflow:Restoring parameters from colorbot/model.ckpt-23\n",
      "INFO:tensorflow:Finished evaluation at 2017-08-03-15:00:39\n",
      "INFO:tensorflow:Saving dict for global step 23: global_step = 23, loss = 0.0954898\n",
      "Training epoch 1\n",
      "--------------------\n",
      "INFO:tensorflow:Create CheckpointSaverHook.\n",
      "INFO:tensorflow:Restoring parameters from colorbot/model.ckpt-23\n",
      "INFO:tensorflow:Saving checkpoints for 24 into colorbot/model.ckpt.\n",
      "INFO:tensorflow:step = 24, loss = 0.0994802\n",
      "INFO:tensorflow:Saving checkpoints for 46 into colorbot/model.ckpt.\n",
      "INFO:tensorflow:Loss for final step: 0.0647639.\n",
      "Evaluating epoch 1\n",
      "--------------------\n",
      "INFO:tensorflow:Starting evaluation at 2017-08-03-15:00:41\n",
      "INFO:tensorflow:Restoring parameters from colorbot/model.ckpt-46\n",
      "INFO:tensorflow:Finished evaluation at 2017-08-03-15:00:42\n",
      "INFO:tensorflow:Saving dict for global step 46: global_step = 46, loss = 0.102245\n",
      "Training epoch 2\n",
      "--------------------\n",
      "INFO:tensorflow:Create CheckpointSaverHook.\n",
      "INFO:tensorflow:Restoring parameters from colorbot/model.ckpt-46\n",
      "INFO:tensorflow:Saving checkpoints for 47 into colorbot/model.ckpt.\n",
      "INFO:tensorflow:step = 47, loss = 0.0986986\n",
      "INFO:tensorflow:Saving checkpoints for 69 into colorbot/model.ckpt.\n",
      "INFO:tensorflow:Loss for final step: 0.0927868.\n",
      "Evaluating epoch 2\n",
      "--------------------\n",
      "INFO:tensorflow:Starting evaluation at 2017-08-03-15:00:44\n",
      "INFO:tensorflow:Restoring parameters from colorbot/model.ckpt-69\n",
      "INFO:tensorflow:Finished evaluation at 2017-08-03-15:00:45\n",
      "INFO:tensorflow:Saving dict for global step 69: global_step = 69, loss = 0.0812882\n",
      "Training epoch 3\n",
      "--------------------\n",
      "INFO:tensorflow:Create CheckpointSaverHook.\n",
      "INFO:tensorflow:Restoring parameters from colorbot/model.ckpt-69\n",
      "INFO:tensorflow:Saving checkpoints for 70 into colorbot/model.ckpt.\n",
      "INFO:tensorflow:step = 70, loss = 0.0964924\n",
      "INFO:tensorflow:Saving checkpoints for 92 into colorbot/model.ckpt.\n",
      "INFO:tensorflow:Loss for final step: 0.0761905.\n",
      "Evaluating epoch 3\n",
      "--------------------\n",
      "INFO:tensorflow:Starting evaluation at 2017-08-03-15:00:48\n",
      "INFO:tensorflow:Restoring parameters from colorbot/model.ckpt-92\n",
      "INFO:tensorflow:Finished evaluation at 2017-08-03-15:00:48\n",
      "INFO:tensorflow:Saving dict for global step 92: global_step = 92, loss = 0.083149\n",
      "Training epoch 4\n",
      "--------------------\n",
      "INFO:tensorflow:Create CheckpointSaverHook.\n",
      "INFO:tensorflow:Restoring parameters from colorbot/model.ckpt-92\n",
      "INFO:tensorflow:Saving checkpoints for 93 into colorbot/model.ckpt.\n",
      "INFO:tensorflow:step = 93, loss = 0.098203\n",
      "INFO:tensorflow:Saving checkpoints for 115 into colorbot/model.ckpt.\n",
      "INFO:tensorflow:Loss for final step: 0.0715288.\n",
      "Evaluating epoch 4\n",
      "--------------------\n",
      "INFO:tensorflow:Starting evaluation at 2017-08-03-15:00:51\n",
      "INFO:tensorflow:Restoring parameters from colorbot/model.ckpt-115\n",
      "INFO:tensorflow:Finished evaluation at 2017-08-03-15:00:51\n",
      "INFO:tensorflow:Saving dict for global step 115: global_step = 115, loss = 0.0952814\n",
      "Training epoch 5\n",
      "--------------------\n",
      "INFO:tensorflow:Create CheckpointSaverHook.\n",
      "INFO:tensorflow:Restoring parameters from colorbot/model.ckpt-115\n",
      "INFO:tensorflow:Saving checkpoints for 116 into colorbot/model.ckpt.\n",
      "INFO:tensorflow:step = 116, loss = 0.10845\n",
      "INFO:tensorflow:Saving checkpoints for 138 into colorbot/model.ckpt.\n",
      "INFO:tensorflow:Loss for final step: 0.0390269.\n",
      "Evaluating epoch 5\n",
      "--------------------\n",
      "INFO:tensorflow:Starting evaluation at 2017-08-03-15:00:54\n",
      "INFO:tensorflow:Restoring parameters from colorbot/model.ckpt-138\n",
      "INFO:tensorflow:Finished evaluation at 2017-08-03-15:00:54\n",
      "INFO:tensorflow:Saving dict for global step 138: global_step = 138, loss = 0.0750029\n",
      "Training epoch 6\n",
      "--------------------\n",
      "INFO:tensorflow:Create CheckpointSaverHook.\n",
      "INFO:tensorflow:Restoring parameters from colorbot/model.ckpt-138\n",
      "INFO:tensorflow:Saving checkpoints for 139 into colorbot/model.ckpt.\n",
      "INFO:tensorflow:step = 139, loss = 0.0918744\n",
      "INFO:tensorflow:Saving checkpoints for 161 into colorbot/model.ckpt.\n",
      "INFO:tensorflow:Loss for final step: 0.040798.\n",
      "Evaluating epoch 6\n",
      "--------------------\n",
      "INFO:tensorflow:Starting evaluation at 2017-08-03-15:00:57\n",
      "INFO:tensorflow:Restoring parameters from colorbot/model.ckpt-161\n",
      "INFO:tensorflow:Finished evaluation at 2017-08-03-15:00:58\n",
      "INFO:tensorflow:Saving dict for global step 161: global_step = 161, loss = 0.0731551\n",
      "Training epoch 7\n",
      "--------------------\n",
      "INFO:tensorflow:Create CheckpointSaverHook.\n",
      "INFO:tensorflow:Restoring parameters from colorbot/model.ckpt-161\n",
      "INFO:tensorflow:Saving checkpoints for 162 into colorbot/model.ckpt.\n",
      "INFO:tensorflow:step = 162, loss = 0.0924742\n",
      "INFO:tensorflow:Saving checkpoints for 184 into colorbot/model.ckpt.\n",
      "INFO:tensorflow:Loss for final step: 0.0467871.\n",
      "Evaluating epoch 7\n",
      "--------------------\n",
      "INFO:tensorflow:Starting evaluation at 2017-08-03-15:01:00\n",
      "INFO:tensorflow:Restoring parameters from colorbot/model.ckpt-184\n",
      "INFO:tensorflow:Finished evaluation at 2017-08-03-15:01:01\n",
      "INFO:tensorflow:Saving dict for global step 184: global_step = 184, loss = 0.0960772\n",
      "Training epoch 8\n",
      "--------------------\n",
      "INFO:tensorflow:Create CheckpointSaverHook.\n",
      "INFO:tensorflow:Restoring parameters from colorbot/model.ckpt-184\n",
      "INFO:tensorflow:Saving checkpoints for 185 into colorbot/model.ckpt.\n",
      "INFO:tensorflow:step = 185, loss = 0.11175\n",
      "INFO:tensorflow:Saving checkpoints for 207 into colorbot/model.ckpt.\n",
      "INFO:tensorflow:Loss for final step: 0.0249051.\n",
      "Evaluating epoch 8\n",
      "--------------------\n",
      "INFO:tensorflow:Starting evaluation at 2017-08-03-15:01:03\n",
      "INFO:tensorflow:Restoring parameters from colorbot/model.ckpt-207\n",
      "INFO:tensorflow:Finished evaluation at 2017-08-03-15:01:04\n",
      "INFO:tensorflow:Saving dict for global step 207: global_step = 207, loss = 0.0785817\n",
      "Training epoch 9\n",
      "--------------------\n",
      "INFO:tensorflow:Create CheckpointSaverHook.\n",
      "INFO:tensorflow:Restoring parameters from colorbot/model.ckpt-207\n",
      "INFO:tensorflow:Saving checkpoints for 208 into colorbot/model.ckpt.\n",
      "INFO:tensorflow:step = 208, loss = 0.0906201\n",
      "INFO:tensorflow:Saving checkpoints for 230 into colorbot/model.ckpt.\n",
      "INFO:tensorflow:Loss for final step: 0.018581.\n",
      "Evaluating epoch 9\n",
      "--------------------\n",
      "INFO:tensorflow:Starting evaluation at 2017-08-03-15:01:06\n",
      "INFO:tensorflow:Restoring parameters from colorbot/model.ckpt-230\n",
      "INFO:tensorflow:Finished evaluation at 2017-08-03-15:01:07\n",
      "INFO:tensorflow:Saving dict for global step 230: global_step = 230, loss = 0.0698065\n",
      "Training epoch 10\n",
      "--------------------\n",
      "INFO:tensorflow:Create CheckpointSaverHook.\n",
      "INFO:tensorflow:Restoring parameters from colorbot/model.ckpt-230\n",
      "INFO:tensorflow:Saving checkpoints for 231 into colorbot/model.ckpt.\n",
      "INFO:tensorflow:step = 231, loss = 0.0878039\n",
      "INFO:tensorflow:Saving checkpoints for 253 into colorbot/model.ckpt.\n",
      "INFO:tensorflow:Loss for final step: 0.0322558.\n",
      "Evaluating epoch 10\n",
      "--------------------\n",
      "INFO:tensorflow:Starting evaluation at 2017-08-03-15:01:09\n",
      "INFO:tensorflow:Restoring parameters from colorbot/model.ckpt-253\n",
      "INFO:tensorflow:Finished evaluation at 2017-08-03-15:01:10\n",
      "INFO:tensorflow:Saving dict for global step 253: global_step = 253, loss = 0.084126\n",
      "Training epoch 11\n",
      "--------------------\n",
      "INFO:tensorflow:Create CheckpointSaverHook.\n",
      "INFO:tensorflow:Restoring parameters from colorbot/model.ckpt-253\n",
      "INFO:tensorflow:Saving checkpoints for 254 into colorbot/model.ckpt.\n",
      "INFO:tensorflow:step = 254, loss = 0.0965165\n",
      "INFO:tensorflow:Saving checkpoints for 276 into colorbot/model.ckpt.\n",
      "INFO:tensorflow:Loss for final step: 0.0111067.\n",
      "Evaluating epoch 11\n",
      "--------------------\n",
      "INFO:tensorflow:Starting evaluation at 2017-08-03-15:01:12\n",
      "INFO:tensorflow:Restoring parameters from colorbot/model.ckpt-276\n",
      "INFO:tensorflow:Finished evaluation at 2017-08-03-15:01:13\n",
      "INFO:tensorflow:Saving dict for global step 276: global_step = 276, loss = 0.0731877\n",
      "Training epoch 12\n",
      "--------------------\n",
      "INFO:tensorflow:Create CheckpointSaverHook.\n"
     ]
    },
    {
     "name": "stdout",
     "output_type": "stream",
     "text": [
      "INFO:tensorflow:Restoring parameters from colorbot/model.ckpt-276\n",
      "INFO:tensorflow:Saving checkpoints for 277 into colorbot/model.ckpt.\n",
      "INFO:tensorflow:step = 277, loss = 0.0915138\n",
      "INFO:tensorflow:Saving checkpoints for 299 into colorbot/model.ckpt.\n",
      "INFO:tensorflow:Loss for final step: 0.00214087.\n",
      "Evaluating epoch 12\n",
      "--------------------\n",
      "INFO:tensorflow:Starting evaluation at 2017-08-03-15:01:15\n",
      "INFO:tensorflow:Restoring parameters from colorbot/model.ckpt-299\n",
      "INFO:tensorflow:Finished evaluation at 2017-08-03-15:01:16\n",
      "INFO:tensorflow:Saving dict for global step 299: global_step = 299, loss = 0.0762868\n",
      "Training epoch 13\n",
      "--------------------\n",
      "INFO:tensorflow:Create CheckpointSaverHook.\n",
      "INFO:tensorflow:Restoring parameters from colorbot/model.ckpt-299\n",
      "INFO:tensorflow:Saving checkpoints for 300 into colorbot/model.ckpt.\n",
      "INFO:tensorflow:step = 300, loss = 0.0893422\n",
      "INFO:tensorflow:Saving checkpoints for 322 into colorbot/model.ckpt.\n",
      "INFO:tensorflow:Loss for final step: 0.00229317.\n",
      "Evaluating epoch 13\n",
      "--------------------\n",
      "INFO:tensorflow:Starting evaluation at 2017-08-03-15:01:18\n",
      "INFO:tensorflow:Restoring parameters from colorbot/model.ckpt-322\n",
      "INFO:tensorflow:Finished evaluation at 2017-08-03-15:01:18\n",
      "INFO:tensorflow:Saving dict for global step 322: global_step = 322, loss = 0.0764978\n",
      "Training epoch 14\n",
      "--------------------\n",
      "INFO:tensorflow:Create CheckpointSaverHook.\n",
      "INFO:tensorflow:Restoring parameters from colorbot/model.ckpt-322\n",
      "INFO:tensorflow:Saving checkpoints for 323 into colorbot/model.ckpt.\n",
      "INFO:tensorflow:step = 323, loss = 0.0883323\n",
      "INFO:tensorflow:Saving checkpoints for 345 into colorbot/model.ckpt.\n",
      "INFO:tensorflow:Loss for final step: 0.0128561.\n",
      "Evaluating epoch 14\n",
      "--------------------\n",
      "INFO:tensorflow:Starting evaluation at 2017-08-03-15:01:21\n",
      "INFO:tensorflow:Restoring parameters from colorbot/model.ckpt-345\n",
      "INFO:tensorflow:Finished evaluation at 2017-08-03-15:01:22\n",
      "INFO:tensorflow:Saving dict for global step 345: global_step = 345, loss = 0.0888286\n",
      "Training epoch 15\n",
      "--------------------\n",
      "INFO:tensorflow:Create CheckpointSaverHook.\n",
      "INFO:tensorflow:Restoring parameters from colorbot/model.ckpt-345\n",
      "INFO:tensorflow:Saving checkpoints for 346 into colorbot/model.ckpt.\n",
      "INFO:tensorflow:step = 346, loss = 0.0935682\n",
      "INFO:tensorflow:Saving checkpoints for 368 into colorbot/model.ckpt.\n",
      "INFO:tensorflow:Loss for final step: 0.0101696.\n",
      "Evaluating epoch 15\n",
      "--------------------\n",
      "INFO:tensorflow:Starting evaluation at 2017-08-03-15:01:24\n",
      "INFO:tensorflow:Restoring parameters from colorbot/model.ckpt-368\n",
      "INFO:tensorflow:Finished evaluation at 2017-08-03-15:01:25\n",
      "INFO:tensorflow:Saving dict for global step 368: global_step = 368, loss = 0.0763375\n",
      "Training epoch 16\n",
      "--------------------\n",
      "INFO:tensorflow:Create CheckpointSaverHook.\n",
      "INFO:tensorflow:Restoring parameters from colorbot/model.ckpt-368\n",
      "INFO:tensorflow:Saving checkpoints for 369 into colorbot/model.ckpt.\n",
      "INFO:tensorflow:step = 369, loss = 0.0789261\n",
      "INFO:tensorflow:Saving checkpoints for 391 into colorbot/model.ckpt.\n",
      "INFO:tensorflow:Loss for final step: 0.016138.\n",
      "Evaluating epoch 16\n",
      "--------------------\n",
      "INFO:tensorflow:Starting evaluation at 2017-08-03-15:01:27\n",
      "INFO:tensorflow:Restoring parameters from colorbot/model.ckpt-391\n",
      "INFO:tensorflow:Finished evaluation at 2017-08-03-15:01:28\n",
      "INFO:tensorflow:Saving dict for global step 391: global_step = 391, loss = 0.0655067\n",
      "Training epoch 17\n",
      "--------------------\n",
      "INFO:tensorflow:Create CheckpointSaverHook.\n",
      "INFO:tensorflow:Restoring parameters from colorbot/model.ckpt-391\n",
      "INFO:tensorflow:Saving checkpoints for 392 into colorbot/model.ckpt.\n",
      "INFO:tensorflow:step = 392, loss = 0.0728631\n",
      "INFO:tensorflow:Saving checkpoints for 414 into colorbot/model.ckpt.\n",
      "INFO:tensorflow:Loss for final step: 0.0508708.\n",
      "Evaluating epoch 17\n",
      "--------------------\n",
      "INFO:tensorflow:Starting evaluation at 2017-08-03-15:01:30\n",
      "INFO:tensorflow:Restoring parameters from colorbot/model.ckpt-414\n",
      "INFO:tensorflow:Finished evaluation at 2017-08-03-15:01:31\n",
      "INFO:tensorflow:Saving dict for global step 414: global_step = 414, loss = 0.0908748\n",
      "Training epoch 18\n",
      "--------------------\n",
      "INFO:tensorflow:Create CheckpointSaverHook.\n",
      "INFO:tensorflow:Restoring parameters from colorbot/model.ckpt-414\n",
      "INFO:tensorflow:Saving checkpoints for 415 into colorbot/model.ckpt.\n",
      "INFO:tensorflow:step = 415, loss = 0.0916891\n",
      "INFO:tensorflow:Saving checkpoints for 437 into colorbot/model.ckpt.\n",
      "INFO:tensorflow:Loss for final step: 0.0252501.\n",
      "Evaluating epoch 18\n",
      "--------------------\n",
      "INFO:tensorflow:Starting evaluation at 2017-08-03-15:01:34\n",
      "INFO:tensorflow:Restoring parameters from colorbot/model.ckpt-437\n",
      "INFO:tensorflow:Finished evaluation at 2017-08-03-15:01:34\n",
      "INFO:tensorflow:Saving dict for global step 437: global_step = 437, loss = 0.0879458\n",
      "Training epoch 19\n",
      "--------------------\n",
      "INFO:tensorflow:Create CheckpointSaverHook.\n",
      "INFO:tensorflow:Restoring parameters from colorbot/model.ckpt-437\n",
      "INFO:tensorflow:Saving checkpoints for 438 into colorbot/model.ckpt.\n",
      "INFO:tensorflow:step = 438, loss = 0.0842887\n",
      "INFO:tensorflow:Saving checkpoints for 460 into colorbot/model.ckpt.\n",
      "INFO:tensorflow:Loss for final step: 0.0136866.\n",
      "Evaluating epoch 19\n",
      "--------------------\n",
      "INFO:tensorflow:Starting evaluation at 2017-08-03-15:01:37\n",
      "INFO:tensorflow:Restoring parameters from colorbot/model.ckpt-460\n",
      "INFO:tensorflow:Finished evaluation at 2017-08-03-15:01:37\n",
      "INFO:tensorflow:Saving dict for global step 460: global_step = 460, loss = 0.0658603\n",
      "Training epoch 20\n",
      "--------------------\n",
      "INFO:tensorflow:Create CheckpointSaverHook.\n",
      "INFO:tensorflow:Restoring parameters from colorbot/model.ckpt-460\n",
      "INFO:tensorflow:Saving checkpoints for 461 into colorbot/model.ckpt.\n",
      "INFO:tensorflow:step = 461, loss = 0.071634\n",
      "INFO:tensorflow:Saving checkpoints for 483 into colorbot/model.ckpt.\n",
      "INFO:tensorflow:Loss for final step: 0.0096562.\n",
      "Evaluating epoch 20\n",
      "--------------------\n",
      "INFO:tensorflow:Starting evaluation at 2017-08-03-15:01:40\n",
      "INFO:tensorflow:Restoring parameters from colorbot/model.ckpt-483\n",
      "INFO:tensorflow:Finished evaluation at 2017-08-03-15:01:40\n",
      "INFO:tensorflow:Saving dict for global step 483: global_step = 483, loss = 0.073327\n",
      "Training epoch 21\n",
      "--------------------\n",
      "INFO:tensorflow:Create CheckpointSaverHook.\n",
      "INFO:tensorflow:Restoring parameters from colorbot/model.ckpt-483\n",
      "INFO:tensorflow:Saving checkpoints for 484 into colorbot/model.ckpt.\n",
      "INFO:tensorflow:step = 484, loss = 0.0735931\n",
      "INFO:tensorflow:Saving checkpoints for 506 into colorbot/model.ckpt.\n",
      "INFO:tensorflow:Loss for final step: 0.0105215.\n",
      "Evaluating epoch 21\n",
      "--------------------\n",
      "INFO:tensorflow:Starting evaluation at 2017-08-03-15:01:43\n",
      "INFO:tensorflow:Restoring parameters from colorbot/model.ckpt-506\n",
      "INFO:tensorflow:Finished evaluation at 2017-08-03-15:01:43\n",
      "INFO:tensorflow:Saving dict for global step 506: global_step = 506, loss = 0.0606367\n",
      "Training epoch 22\n",
      "--------------------\n",
      "INFO:tensorflow:Create CheckpointSaverHook.\n",
      "INFO:tensorflow:Restoring parameters from colorbot/model.ckpt-506\n",
      "INFO:tensorflow:Saving checkpoints for 507 into colorbot/model.ckpt.\n",
      "INFO:tensorflow:step = 507, loss = 0.0670767\n",
      "INFO:tensorflow:Saving checkpoints for 529 into colorbot/model.ckpt.\n",
      "INFO:tensorflow:Loss for final step: 0.00940824.\n",
      "Evaluating epoch 22\n",
      "--------------------\n",
      "INFO:tensorflow:Starting evaluation at 2017-08-03-15:01:46\n",
      "INFO:tensorflow:Restoring parameters from colorbot/model.ckpt-529\n",
      "INFO:tensorflow:Finished evaluation at 2017-08-03-15:01:46\n",
      "INFO:tensorflow:Saving dict for global step 529: global_step = 529, loss = 0.0595843\n",
      "Training epoch 23\n",
      "--------------------\n",
      "INFO:tensorflow:Create CheckpointSaverHook.\n",
      "INFO:tensorflow:Restoring parameters from colorbot/model.ckpt-529\n",
      "INFO:tensorflow:Saving checkpoints for 530 into colorbot/model.ckpt.\n",
      "INFO:tensorflow:step = 530, loss = 0.0613532\n",
      "INFO:tensorflow:Saving checkpoints for 552 into colorbot/model.ckpt.\n",
      "INFO:tensorflow:Loss for final step: 0.00288535.\n",
      "Evaluating epoch 23\n",
      "--------------------\n",
      "INFO:tensorflow:Starting evaluation at 2017-08-03-15:01:49\n",
      "INFO:tensorflow:Restoring parameters from colorbot/model.ckpt-552\n",
      "INFO:tensorflow:Finished evaluation at 2017-08-03-15:01:49\n",
      "INFO:tensorflow:Saving dict for global step 552: global_step = 552, loss = 0.0563596\n"
     ]
    },
    {
     "name": "stdout",
     "output_type": "stream",
     "text": [
      "Training epoch 24\n",
      "--------------------\n",
      "INFO:tensorflow:Create CheckpointSaverHook.\n",
      "INFO:tensorflow:Restoring parameters from colorbot/model.ckpt-552\n",
      "INFO:tensorflow:Saving checkpoints for 553 into colorbot/model.ckpt.\n",
      "INFO:tensorflow:step = 553, loss = 0.052846\n",
      "INFO:tensorflow:Saving checkpoints for 575 into colorbot/model.ckpt.\n",
      "INFO:tensorflow:Loss for final step: 0.00718242.\n",
      "Evaluating epoch 24\n",
      "--------------------\n",
      "INFO:tensorflow:Starting evaluation at 2017-08-03-15:01:52\n",
      "INFO:tensorflow:Restoring parameters from colorbot/model.ckpt-575\n",
      "INFO:tensorflow:Finished evaluation at 2017-08-03-15:01:52\n",
      "INFO:tensorflow:Saving dict for global step 575: global_step = 575, loss = 0.0558685\n",
      "Training epoch 25\n",
      "--------------------\n",
      "INFO:tensorflow:Create CheckpointSaverHook.\n",
      "INFO:tensorflow:Restoring parameters from colorbot/model.ckpt-575\n",
      "INFO:tensorflow:Saving checkpoints for 576 into colorbot/model.ckpt.\n",
      "INFO:tensorflow:step = 576, loss = 0.0507478\n",
      "INFO:tensorflow:Saving checkpoints for 598 into colorbot/model.ckpt.\n",
      "INFO:tensorflow:Loss for final step: 0.00942253.\n",
      "Evaluating epoch 25\n",
      "--------------------\n",
      "INFO:tensorflow:Starting evaluation at 2017-08-03-15:01:55\n",
      "INFO:tensorflow:Restoring parameters from colorbot/model.ckpt-598\n",
      "INFO:tensorflow:Finished evaluation at 2017-08-03-15:01:55\n",
      "INFO:tensorflow:Saving dict for global step 598: global_step = 598, loss = 0.0541042\n",
      "Training epoch 26\n",
      "--------------------\n",
      "INFO:tensorflow:Create CheckpointSaverHook.\n",
      "INFO:tensorflow:Restoring parameters from colorbot/model.ckpt-598\n",
      "INFO:tensorflow:Saving checkpoints for 599 into colorbot/model.ckpt.\n",
      "INFO:tensorflow:step = 599, loss = 0.0585796\n",
      "INFO:tensorflow:Saving checkpoints for 621 into colorbot/model.ckpt.\n",
      "INFO:tensorflow:Loss for final step: 0.00962922.\n",
      "Evaluating epoch 26\n",
      "--------------------\n",
      "INFO:tensorflow:Starting evaluation at 2017-08-03-15:01:58\n",
      "INFO:tensorflow:Restoring parameters from colorbot/model.ckpt-621\n",
      "INFO:tensorflow:Finished evaluation at 2017-08-03-15:01:58\n",
      "INFO:tensorflow:Saving dict for global step 621: global_step = 621, loss = 0.0639904\n",
      "Training epoch 27\n",
      "--------------------\n",
      "INFO:tensorflow:Create CheckpointSaverHook.\n",
      "INFO:tensorflow:Restoring parameters from colorbot/model.ckpt-621\n",
      "INFO:tensorflow:Saving checkpoints for 622 into colorbot/model.ckpt.\n",
      "INFO:tensorflow:step = 622, loss = 0.0577728\n",
      "INFO:tensorflow:Saving checkpoints for 644 into colorbot/model.ckpt.\n",
      "INFO:tensorflow:Loss for final step: 0.0333434.\n",
      "Evaluating epoch 27\n",
      "--------------------\n",
      "INFO:tensorflow:Starting evaluation at 2017-08-03-15:02:01\n",
      "INFO:tensorflow:Restoring parameters from colorbot/model.ckpt-644\n",
      "INFO:tensorflow:Finished evaluation at 2017-08-03-15:02:01\n",
      "INFO:tensorflow:Saving dict for global step 644: global_step = 644, loss = 0.0704458\n",
      "Training epoch 28\n",
      "--------------------\n",
      "INFO:tensorflow:Create CheckpointSaverHook.\n",
      "INFO:tensorflow:Restoring parameters from colorbot/model.ckpt-644\n",
      "INFO:tensorflow:Saving checkpoints for 645 into colorbot/model.ckpt.\n",
      "INFO:tensorflow:step = 645, loss = 0.0570882\n",
      "INFO:tensorflow:Saving checkpoints for 667 into colorbot/model.ckpt.\n",
      "INFO:tensorflow:Loss for final step: 0.003277.\n",
      "Evaluating epoch 28\n",
      "--------------------\n",
      "INFO:tensorflow:Starting evaluation at 2017-08-03-15:02:04\n",
      "INFO:tensorflow:Restoring parameters from colorbot/model.ckpt-667\n",
      "INFO:tensorflow:Finished evaluation at 2017-08-03-15:02:04\n",
      "INFO:tensorflow:Saving dict for global step 667: global_step = 667, loss = 0.071586\n",
      "Training epoch 29\n",
      "--------------------\n",
      "INFO:tensorflow:Create CheckpointSaverHook.\n",
      "INFO:tensorflow:Restoring parameters from colorbot/model.ckpt-667\n",
      "INFO:tensorflow:Saving checkpoints for 668 into colorbot/model.ckpt.\n",
      "INFO:tensorflow:step = 668, loss = 0.048364\n",
      "INFO:tensorflow:Saving checkpoints for 690 into colorbot/model.ckpt.\n",
      "INFO:tensorflow:Loss for final step: 0.0145544.\n",
      "Evaluating epoch 29\n",
      "--------------------\n",
      "INFO:tensorflow:Starting evaluation at 2017-08-03-15:02:07\n",
      "INFO:tensorflow:Restoring parameters from colorbot/model.ckpt-690\n",
      "INFO:tensorflow:Finished evaluation at 2017-08-03-15:02:07\n",
      "INFO:tensorflow:Saving dict for global step 690: global_step = 690, loss = 0.0513626\n",
      "Training epoch 30\n",
      "--------------------\n",
      "INFO:tensorflow:Create CheckpointSaverHook.\n",
      "INFO:tensorflow:Restoring parameters from colorbot/model.ckpt-690\n",
      "INFO:tensorflow:Saving checkpoints for 691 into colorbot/model.ckpt.\n",
      "INFO:tensorflow:step = 691, loss = 0.0399841\n",
      "INFO:tensorflow:Saving checkpoints for 713 into colorbot/model.ckpt.\n",
      "INFO:tensorflow:Loss for final step: 0.0139253.\n",
      "Evaluating epoch 30\n",
      "--------------------\n",
      "INFO:tensorflow:Starting evaluation at 2017-08-03-15:02:10\n",
      "INFO:tensorflow:Restoring parameters from colorbot/model.ckpt-713\n",
      "INFO:tensorflow:Finished evaluation at 2017-08-03-15:02:10\n",
      "INFO:tensorflow:Saving dict for global step 713: global_step = 713, loss = 0.0565116\n",
      "Training epoch 31\n",
      "--------------------\n",
      "INFO:tensorflow:Create CheckpointSaverHook.\n",
      "INFO:tensorflow:Restoring parameters from colorbot/model.ckpt-713\n",
      "INFO:tensorflow:Saving checkpoints for 714 into colorbot/model.ckpt.\n",
      "INFO:tensorflow:step = 714, loss = 0.0398536\n",
      "INFO:tensorflow:Saving checkpoints for 736 into colorbot/model.ckpt.\n",
      "INFO:tensorflow:Loss for final step: 0.0164084.\n",
      "Evaluating epoch 31\n",
      "--------------------\n",
      "INFO:tensorflow:Starting evaluation at 2017-08-03-15:02:13\n",
      "INFO:tensorflow:Restoring parameters from colorbot/model.ckpt-736\n",
      "INFO:tensorflow:Finished evaluation at 2017-08-03-15:02:13\n",
      "INFO:tensorflow:Saving dict for global step 736: global_step = 736, loss = 0.0520479\n",
      "Training epoch 32\n",
      "--------------------\n",
      "INFO:tensorflow:Create CheckpointSaverHook.\n",
      "INFO:tensorflow:Restoring parameters from colorbot/model.ckpt-736\n",
      "INFO:tensorflow:Saving checkpoints for 737 into colorbot/model.ckpt.\n",
      "INFO:tensorflow:step = 737, loss = 0.0353314\n",
      "INFO:tensorflow:Saving checkpoints for 759 into colorbot/model.ckpt.\n",
      "INFO:tensorflow:Loss for final step: 0.0103122.\n",
      "Evaluating epoch 32\n",
      "--------------------\n",
      "INFO:tensorflow:Starting evaluation at 2017-08-03-15:02:16\n",
      "INFO:tensorflow:Restoring parameters from colorbot/model.ckpt-759\n",
      "INFO:tensorflow:Finished evaluation at 2017-08-03-15:02:16\n",
      "INFO:tensorflow:Saving dict for global step 759: global_step = 759, loss = 0.0531136\n",
      "Training epoch 33\n",
      "--------------------\n",
      "INFO:tensorflow:Create CheckpointSaverHook.\n",
      "INFO:tensorflow:Restoring parameters from colorbot/model.ckpt-759\n",
      "INFO:tensorflow:Saving checkpoints for 760 into colorbot/model.ckpt.\n",
      "INFO:tensorflow:step = 760, loss = 0.0276007\n",
      "INFO:tensorflow:Saving checkpoints for 782 into colorbot/model.ckpt.\n",
      "INFO:tensorflow:Loss for final step: 0.00283034.\n",
      "Evaluating epoch 33\n",
      "--------------------\n",
      "INFO:tensorflow:Starting evaluation at 2017-08-03-15:02:19\n",
      "INFO:tensorflow:Restoring parameters from colorbot/model.ckpt-782\n",
      "INFO:tensorflow:Finished evaluation at 2017-08-03-15:02:19\n",
      "INFO:tensorflow:Saving dict for global step 782: global_step = 782, loss = 0.0481051\n",
      "Training epoch 34\n",
      "--------------------\n",
      "INFO:tensorflow:Create CheckpointSaverHook.\n",
      "INFO:tensorflow:Restoring parameters from colorbot/model.ckpt-782\n",
      "INFO:tensorflow:Saving checkpoints for 783 into colorbot/model.ckpt.\n",
      "INFO:tensorflow:step = 783, loss = 0.0264262\n",
      "INFO:tensorflow:Saving checkpoints for 805 into colorbot/model.ckpt.\n",
      "INFO:tensorflow:Loss for final step: 0.000906388.\n",
      "Evaluating epoch 34\n",
      "--------------------\n",
      "INFO:tensorflow:Starting evaluation at 2017-08-03-15:02:22\n",
      "INFO:tensorflow:Restoring parameters from colorbot/model.ckpt-805\n",
      "INFO:tensorflow:Finished evaluation at 2017-08-03-15:02:22\n",
      "INFO:tensorflow:Saving dict for global step 805: global_step = 805, loss = 0.0490656\n",
      "Training epoch 35\n",
      "--------------------\n",
      "INFO:tensorflow:Create CheckpointSaverHook.\n",
      "INFO:tensorflow:Restoring parameters from colorbot/model.ckpt-805\n",
      "INFO:tensorflow:Saving checkpoints for 806 into colorbot/model.ckpt.\n",
      "INFO:tensorflow:step = 806, loss = 0.0225186\n",
      "INFO:tensorflow:Saving checkpoints for 828 into colorbot/model.ckpt.\n",
      "INFO:tensorflow:Loss for final step: 0.00639401.\n",
      "Evaluating epoch 35\n",
      "--------------------\n",
      "INFO:tensorflow:Starting evaluation at 2017-08-03-15:02:25\n",
      "INFO:tensorflow:Restoring parameters from colorbot/model.ckpt-828\n",
      "INFO:tensorflow:Finished evaluation at 2017-08-03-15:02:25\n"
     ]
    },
    {
     "name": "stdout",
     "output_type": "stream",
     "text": [
      "INFO:tensorflow:Saving dict for global step 828: global_step = 828, loss = 0.0510266\n",
      "Training epoch 36\n",
      "--------------------\n",
      "INFO:tensorflow:Create CheckpointSaverHook.\n",
      "INFO:tensorflow:Restoring parameters from colorbot/model.ckpt-828\n",
      "INFO:tensorflow:Saving checkpoints for 829 into colorbot/model.ckpt.\n",
      "INFO:tensorflow:step = 829, loss = 0.0241904\n",
      "INFO:tensorflow:Saving checkpoints for 851 into colorbot/model.ckpt.\n",
      "INFO:tensorflow:Loss for final step: 0.0193809.\n",
      "Evaluating epoch 36\n",
      "--------------------\n",
      "INFO:tensorflow:Starting evaluation at 2017-08-03-15:02:28\n",
      "INFO:tensorflow:Restoring parameters from colorbot/model.ckpt-851\n",
      "INFO:tensorflow:Finished evaluation at 2017-08-03-15:02:29\n",
      "INFO:tensorflow:Saving dict for global step 851: global_step = 851, loss = 0.0489838\n",
      "Training epoch 37\n",
      "--------------------\n",
      "INFO:tensorflow:Create CheckpointSaverHook.\n",
      "INFO:tensorflow:Restoring parameters from colorbot/model.ckpt-851\n",
      "INFO:tensorflow:Saving checkpoints for 852 into colorbot/model.ckpt.\n",
      "INFO:tensorflow:step = 852, loss = 0.0159903\n",
      "INFO:tensorflow:Saving checkpoints for 874 into colorbot/model.ckpt.\n",
      "INFO:tensorflow:Loss for final step: 0.00673583.\n",
      "Evaluating epoch 37\n",
      "--------------------\n",
      "INFO:tensorflow:Starting evaluation at 2017-08-03-15:02:31\n",
      "INFO:tensorflow:Restoring parameters from colorbot/model.ckpt-874\n",
      "INFO:tensorflow:Finished evaluation at 2017-08-03-15:02:31\n",
      "INFO:tensorflow:Saving dict for global step 874: global_step = 874, loss = 0.0453029\n",
      "Training epoch 38\n",
      "--------------------\n",
      "INFO:tensorflow:Create CheckpointSaverHook.\n",
      "INFO:tensorflow:Restoring parameters from colorbot/model.ckpt-874\n",
      "INFO:tensorflow:Saving checkpoints for 875 into colorbot/model.ckpt.\n",
      "INFO:tensorflow:step = 875, loss = 0.0148224\n",
      "INFO:tensorflow:Saving checkpoints for 897 into colorbot/model.ckpt.\n",
      "INFO:tensorflow:Loss for final step: 0.0252576.\n",
      "Evaluating epoch 38\n",
      "--------------------\n",
      "INFO:tensorflow:Starting evaluation at 2017-08-03-15:02:34\n",
      "INFO:tensorflow:Restoring parameters from colorbot/model.ckpt-897\n",
      "INFO:tensorflow:Finished evaluation at 2017-08-03-15:02:34\n",
      "INFO:tensorflow:Saving dict for global step 897: global_step = 897, loss = 0.048416\n",
      "Training epoch 39\n",
      "--------------------\n",
      "INFO:tensorflow:Create CheckpointSaverHook.\n",
      "INFO:tensorflow:Restoring parameters from colorbot/model.ckpt-897\n",
      "INFO:tensorflow:Saving checkpoints for 898 into colorbot/model.ckpt.\n",
      "INFO:tensorflow:step = 898, loss = 0.0233025\n",
      "INFO:tensorflow:Saving checkpoints for 920 into colorbot/model.ckpt.\n",
      "INFO:tensorflow:Loss for final step: 0.00560891.\n",
      "Evaluating epoch 39\n",
      "--------------------\n",
      "INFO:tensorflow:Starting evaluation at 2017-08-03-15:02:37\n",
      "INFO:tensorflow:Restoring parameters from colorbot/model.ckpt-920\n",
      "INFO:tensorflow:Finished evaluation at 2017-08-03-15:02:37\n",
      "INFO:tensorflow:Saving dict for global step 920: global_step = 920, loss = 0.0482685\n"
     ]
    }
   ],
   "source": [
    "NUM_EPOCHS = 40\n",
    "for i in range(NUM_EPOCHS):\n",
    "    print('Training epoch %d' % i)\n",
    "    print('-' * 20)\n",
    "    estimator.train(input_fn=train_input_fn)\n",
    "    print('Evaluating epoch %d' % i)\n",
    "    print('-' * 20)\n",
    "    estimator.evaluate(input_fn = test_input_fn)"
   ]
  },
  {
   "cell_type": "markdown",
   "metadata": {},
   "source": [
    "## Making Predictions"
   ]
  },
  {
   "cell_type": "code",
   "execution_count": 15,
   "metadata": {
    "collapsed": true
   },
   "outputs": [],
   "source": [
    "def predict(estimator, input_file):\n",
    "    preds = estimator.predict(input_fn=get_input_fn(input_file, 1, shuffle=False))\n",
    "    color_names = _get_csv_column(input_file, 'name')\n",
    "\n",
    "    print()\n",
    "    for p, name in zip(preds, color_names):\n",
    "        color = tuple(map(int, p * 255))\n",
    "        print(name + ',', 'rgb:', color)\n",
    "        _plot_rgb(p)"
   ]
  },
  {
   "cell_type": "code",
   "execution_count": 16,
   "metadata": {},
   "outputs": [
    {
     "name": "stdout",
     "output_type": "stream",
     "text": [
      "\n",
      "WARNING:tensorflow:Input graph does not contain a QueueRunner. That means predict yields forever. This is probably a mistake.\n",
      "INFO:tensorflow:Restoring parameters from colorbot/model.ckpt-920\n",
      "orange, rgb: (218, 101, 49)\n"
     ]
    },
    {
     "data": {
      "image/png": "[encoded data removed]",
      "text/plain": [
       "<matplotlib.figure.Figure at 0x7f27a6b1b160>"
      ]
     },
     "metadata": {},
     "output_type": "display_data"
    },
    {
     "name": "stdout",
     "output_type": "stream",
     "text": [
      "tensorflow orange, rgb: (216, 107, 51)\n"
     ]
    },
    {
     "data": {
      "image/png": "[encoded data removed]",
      "text/plain": [
       "<matplotlib.figure.Figure at 0x7f27a6ab6780>"
      ]
     },
     "metadata": {},
     "output_type": "display_data"
    },
    {
     "name": "stdout",
     "output_type": "stream",
     "text": [
      "adfgasdgasd, rgb: (181, 182, 141)\n"
     ]
    },
    {
     "data": {
      "image/png": "[encoded data removed]",
      "text/plain": [
       "<matplotlib.figure.Figure at 0x7f27a62c8828>"
      ]
     },
     "metadata": {},
     "output_type": "display_data"
    },
    {
     "name": "stdout",
     "output_type": "stream",
     "text": [
      "purple blue, rgb: (106, 96, 217)\n"
     ]
    },
    {
     "data": {
      "image/png": "[encoded data removed]",
      "text/plain": [
       "<matplotlib.figure.Figure at 0x7f27a62e74e0>"
      ]
     },
     "metadata": {},
     "output_type": "display_data"
    },
    {
     "name": "stdout",
     "output_type": "stream",
     "text": [
      "purple red, rgb: (230, 53, 102)\n"
     ]
    },
    {
     "data": {
      "image/png": "[encoded data removed]",
      "text/plain": [
       "<matplotlib.figure.Figure at 0x7f27a6202048>"
      ]
     },
     "metadata": {},
     "output_type": "display_data"
    },
    {
     "name": "stdout",
     "output_type": "stream",
     "text": [
      "purple, rgb: (101, 23, 155)\n"
     ]
    },
    {
     "data": {
      "image/png": "[encoded data removed]",
      "text/plain": [
       "<matplotlib.figure.Figure at 0x7f27a61d6f28>"
      ]
     },
     "metadata": {},
     "output_type": "display_data"
    },
    {
     "name": "stdout",
     "output_type": "stream",
     "text": [
      "water, rgb: (207, 197, 201)\n"
     ]
    },
    {
     "data": {
      "image/png": "[encoded data removed]",
      "text/plain": [
       "<matplotlib.figure.Figure at 0x7f27a61ae080>"
      ]
     },
     "metadata": {},
     "output_type": "display_data"
    },
    {
     "name": "stdout",
     "output_type": "stream",
     "text": [
      "pink, rgb: (271, 151, 192)\n"
     ]
    },
    {
     "data": {
      "image/png": "[encoded data removed]",
      "text/plain": [
       "<matplotlib.figure.Figure at 0x7f27a6111b00>"
      ]
     },
     "metadata": {},
     "output_type": "display_data"
    },
    {
     "name": "stdout",
     "output_type": "stream",
     "text": [
      "rock, rgb: (95, 54, 38)\n"
     ]
    },
    {
     "data": {
      "image/png": "[encoded data removed]",
      "text/plain": [
       "<matplotlib.figure.Figure at 0x7f27a60e9c88>"
      ]
     },
     "metadata": {},
     "output_type": "display_data"
    }
   ],
   "source": [
    "predict(estimator, MY_TEST_INPUT)"
   ]
  },
  {
   "cell_type": "markdown",
   "metadata": {},
   "source": [
    "## Pre-trained model predictions\n",
    "\n",
    "In order to load the pre-trained model we can just create an estimator using the model_fn and use the model_dir that contains the pre-trained model files in this case it's 'pretrained'"
   ]
  },
  {
   "cell_type": "code",
   "execution_count": 17,
   "metadata": {},
   "outputs": [
    {
     "name": "stdout",
     "output_type": "stream",
     "text": [
      "INFO:tensorflow:Using default config.\n",
      "INFO:tensorflow:Using config: {'_save_checkpoints_steps': None, '_tf_random_seed': 1, '_session_config': None, '_save_summary_steps': 100, '_model_dir': 'pretrained', '_keep_checkpoint_max': 5, '_save_checkpoints_secs': 600, '_keep_checkpoint_every_n_hours': 10000}\n",
      "\n",
      "WARNING:tensorflow:Input graph does not contain a QueueRunner. That means predict yields forever. This is probably a mistake.\n",
      "INFO:tensorflow:Restoring parameters from pretrained/model.ckpt-8069\n",
      "orange, rgb: (233, 124, 19)\n"
     ]
    },
    {
     "data": {
      "image/png": "[encoded data removed]",
      "text/plain": [
       "<matplotlib.figure.Figure at 0x7f27a4da5ba8>"
      ]
     },
     "metadata": {},
     "output_type": "display_data"
    },
    {
     "name": "stdout",
     "output_type": "stream",
     "text": [
      "tensorflow orange, rgb: (232, 149, 88)\n"
     ]
    },
    {
     "data": {
      "image/png": "[encoded data removed]",
      "text/plain": [
       "<matplotlib.figure.Figure at 0x7f27a4d29da0>"
      ]
     },
     "metadata": {},
     "output_type": "display_data"
    },
    {
     "name": "stdout",
     "output_type": "stream",
     "text": [
      "adfgasdgasd, rgb: (201, 184, 157)\n"
     ]
    },
    {
     "data": {
      "image/png": "[encoded data removed]",
      "text/plain": [
       "<matplotlib.figure.Figure at 0x7f27a5f83b00>"
      ]
     },
     "metadata": {},
     "output_type": "display_data"
    },
    {
     "name": "stdout",
     "output_type": "stream",
     "text": [
      "purple blue, rgb: (51, 13, 220)\n"
     ]
    },
    {
     "data": {
      "image/png": "[encoded data removed]",
      "text/plain": [
       "<matplotlib.figure.Figure at 0x7f27a60aa3c8>"
      ]
     },
     "metadata": {},
     "output_type": "display_data"
    },
    {
     "name": "stdout",
     "output_type": "stream",
     "text": [
      "purple red, rgb: (152, 40, 61)\n"
     ]
    },
    {
     "data": {
      "image/png": "[encoded data removed]",
      "text/plain": [
       "<matplotlib.figure.Figure at 0x7f27a5f309e8>"
      ]
     },
     "metadata": {},
     "output_type": "display_data"
    },
    {
     "name": "stdout",
     "output_type": "stream",
     "text": [
      "purple, rgb: (92, 23, 109)\n"
     ]
    },
    {
     "data": {
      "image/png": "[encoded data removed]",
      "text/plain": [
       "<matplotlib.figure.Figure at 0x7f27a5e8ea90>"
      ]
     },
     "metadata": {},
     "output_type": "display_data"
    },
    {
     "name": "stdout",
     "output_type": "stream",
     "text": [
      "water, rgb: (160, 201, 202)\n"
     ]
    },
    {
     "data": {
      "image/png": "[encoded data removed]",
      "text/plain": [
       "<matplotlib.figure.Figure at 0x7f27a5e666d8>"
      ]
     },
     "metadata": {},
     "output_type": "display_data"
    },
    {
     "name": "stdout",
     "output_type": "stream",
     "text": [
      "pink, rgb: (257, 153, 165)\n"
     ]
    },
    {
     "data": {
      "image/png": "[encoded data removed]",
      "text/plain": [
       "<matplotlib.figure.Figure at 0x7f27a5e3ee10>"
      ]
     },
     "metadata": {},
     "output_type": "display_data"
    },
    {
     "name": "stdout",
     "output_type": "stream",
     "text": [
      "rock, rgb: (83, 65, 52)\n"
     ]
    },
    {
     "data": {
      "image/png": "[encoded data removed]",
      "text/plain": [
       "<matplotlib.figure.Figure at 0x7f27a5d9de80>"
      ]
     },
     "metadata": {},
     "output_type": "display_data"
    }
   ],
   "source": [
    "pre_estimator = tf.estimator.Estimator(model_dir='pretrained', model_fn=model_fn)\n",
    "predict(pre_estimator, MY_TEST_INPUT)"
   ]
  },
  {
   "cell_type": "markdown",
   "metadata": {
    "collapsed": true
   },
   "source": [
    "# Colorbot Solutions \n",
    "\n",
    "Here are the solutions to the exercises available at the colorbot notebook.\n",
    "\n",
    "In order to compare the models we encourage you to use Tensorboard and also use play_colorbot.py --model_dir=path_to_your_model to play with the models and check how it does with general words other than color words."
   ]
  },
  {
   "cell_type": "markdown",
   "metadata": {},
   "source": [
    "## *EXERCISE EXPERIMENT*\n",
    "\n",
    "When using experiments you should make sure you repeat the datasets the number of epochs desired since the experiment will \"run the for loop for you\". Also, you can add a parameter to run a number of steps instead, it will run until the dataset ends or the number of steps.\n",
    "\n",
    "You can add this cell to your colorbot notebook and run it."
   ]
  },
  {
   "cell_type": "code",
   "execution_count": null,
   "metadata": {
    "collapsed": true
   },
   "outputs": [],
   "source": [
    "# small important detail, to train properly with the experiment you need to\n",
    "# repeat the dataset the number of epochs desired\n",
    "train_input_fn = get_input_fn(TRAIN_INPUT, BATCH_SIZE, num_epochs=40)\n",
    "\n",
    "# create experiment\n",
    "def generate_experiment_fn(run_config, hparams):\n",
    "    estimator = tf.estimator.Estimator(model_fn=model_fn, config=run_config)\n",
    "    return tf.contrib.learn.Experiment(\n",
    "        estimator,\n",
    "        train_input_fn=train_input_fn,\n",
    "        eval_input_fn=test_input_fn\n",
    "    )\n",
    "\n",
    "learn_runner.run(generate_experiment_fn, run_config=tf.contrib.learn.RunConfig(model_dir='model_dir'))"
   ]
  },
  {
   "cell_type": "markdown",
   "metadata": {},
   "source": [
    "## *EXERCISE DATASET*\n",
    "\n",
    "0. Run the colorbot experiment and notice the choosen model_dir\n",
    "1. Below is the input function definition,we don't need some of the auxiliar functions anymore\n",
    "2. Add this cell and then add the solution to the EXERCISE EXPERIMENT\n",
    "3. choose a different model_dir and run the cells\n",
    "4. Copy the model_dir of the two models to the same path\n",
    "5. tensorboard --logdir=path"
   ]
  },
  {
   "cell_type": "code",
   "execution_count": null,
   "metadata": {
    "collapsed": true
   },
   "outputs": [],
   "source": [
    "def get_input_fn(csv_file, batch_size, num_epochs=1, shuffle=True):\n",
    "    def _parse(line):\n",
    "        # each line: name, red, green, blue\n",
    "        # split line\n",
    "        items = tf.string_split([line],',').values\n",
    "\n",
    "        # get color (r, g, b)\n",
    "        color = tf.string_to_number(items[1:], out_type=tf.float32) / 255.0\n",
    "\n",
    "        # split color_name into a sequence of characters\n",
    "        color_name = tf.string_split([items[0]], '')\n",
    "        length = color_name.indices[-1, 1] + 1 # length = index of last char + 1\n",
    "        color_name = color_name.values\n",
    "        return color, color_name, length\n",
    "\n",
    "    def input_fn():\n",
    "        # https://github.com/tensorflow/tensorflow/tree/master/tensorflow/contrib/data\n",
    "        dataset = (\n",
    "            tf.contrib.data.TextLineDataset(csv_file) # reading from the HD\n",
    "            .skip(1) # skip header\n",
    "            .map(_parse) # parse text to variables\n",
    "            .padded_batch(batch_size, padded_shapes=([None], [None], []),\n",
    "                               padding_values=(0.0, chr(0), tf.cast(0, tf.int64)))\n",
    "            \n",
    "            .repeat(num_epochs) # repeat dataset the number of epochs\n",
    "        )\n",
    "        \n",
    "        # for our \"manual\" test we don't want to shuffle the data\n",
    "        if shuffle:\n",
    "            dataset = dataset.shuffle(buffer_size=100000)\n",
    "\n",
    "        # create iterator\n",
    "        color, color_name, length = dataset.make_one_shot_iterator().get_next()\n",
    "\n",
    "        features = {\n",
    "            COLOR_NAME_KEY: color_name,\n",
    "            SEQUENCE_LENGTH_KEY: length,\n",
    "        }\n",
    "\n",
    "        return features, color\n",
    "    return input_fn"
   ]
  },
  {
   "cell_type": "markdown",
   "metadata": {},
   "source": [
    "As a result you will see something like:\n",
    "\n",
    "![](../../images/colorbot_dataset_exercise_sol.png)\n",
    "\n",
    "We called the original model \"sorted_batch\" and the model using the simplified input function as \"simple_batch\"\n",
    "\n",
    "Notice that both models have basically the same loss in the last step, but the \"sorted_batch\" model runs way faster , notice the `global_step/sec` metric, it measures how many steps the model executes per second. Since the \"sorted_batch\" has a larger `global_step/sec` it means it trains faster. \n",
    "\n",
    "If you don't belive me you can change Tensorboard to compare the models in a \"relative\" way, this will compare the models over time. See result below.\n",
    "\n",
    "![](../../images/colorbot_dataset_exercise_relative_sol.png)"
   ]
  },
  {
   "cell_type": "markdown",
   "metadata": {},
   "source": [
    "## *EXERCISE HYPERPARAMETERS*\n",
    "\n",
    "This one is more personal, what you see will depends on what you change in the model.\n",
    "Below is a very simple example we just changed the model to use a GRUCell, just in case..."
   ]
  },
  {
   "cell_type": "code",
   "execution_count": null,
   "metadata": {
    "collapsed": true
   },
   "outputs": [],
   "source": [
    "def get_model_fn(rnn_cell_sizes,\n",
    "                 label_dimension,\n",
    "                 dnn_layer_sizes=[],\n",
    "                 optimizer='SGD',\n",
    "                 learning_rate=0.01):\n",
    "    \n",
    "    def model_fn(features, labels, mode):\n",
    "        \n",
    "        color_name = features[COLOR_NAME_KEY]\n",
    "        sequence_length = tf.cast(features[SEQUENCE_LENGTH_KEY], dtype=tf.int32) # int64 -> int32\n",
    "        \n",
    "        # ----------- Preparing input --------------------\n",
    "        # Creating a tf constant to hold the map char -> index\n",
    "        # this is need to create the sparse tensor and after the one hot encode\n",
    "        mapping = tf.constant(CHARACTERS, name=\"mapping\")\n",
    "        table = tf.contrib.lookup.index_table_from_tensor(mapping, dtype=tf.string)\n",
    "        int_color_name = table.lookup(color_name)\n",
    "        \n",
    "        # representing colornames with one hot representation\n",
    "        color_name_onehot = tf.one_hot(int_color_name, depth=len(CHARACTERS) + 1)\n",
    "        \n",
    "        # ---------- RNN -------------------\n",
    "        # Each RNN layer will consist of a GRU cell\n",
    "        rnn_layers = [tf.nn.rnn_cell.GRUCell(size) for size in rnn_cell_sizes]\n",
    "        \n",
    "        # Construct the layers\n",
    "        multi_rnn_cell = tf.nn.rnn_cell.MultiRNNCell(rnn_layers)\n",
    "        \n",
    "        # Runs the RNN model dynamically\n",
    "        # more about it at: \n",
    "        # https://www.tensorflow.org/api_docs/python/tf/nn/dynamic_rnn\n",
    "        outputs, final_state = tf.nn.dynamic_rnn(cell=multi_rnn_cell,\n",
    "                                                 inputs=color_name_onehot,\n",
    "                                                 sequence_length=sequence_length,\n",
    "                                                 dtype=tf.float32)\n",
    "\n",
    "        # Slice to keep only the last cell of the RNN\n",
    "        last_activations = rnn_common.select_last_activations(outputs,\n",
    "                                                              sequence_length)\n",
    "\n",
    "        # ------------ Dense layers -------------------\n",
    "        # Construct dense layers on top of the last cell of the RNN\n",
    "        for units in dnn_layer_sizes:\n",
    "            last_activations = tf.layers.dense(\n",
    "              last_activations, units, activation=tf.nn.relu)\n",
    "        \n",
    "        # Final dense layer for prediction\n",
    "        predictions = tf.layers.dense(last_activations, label_dimension)\n",
    "\n",
    "        # ----------- Loss and Optimizer ----------------\n",
    "        loss = None\n",
    "        train_op = None\n",
    "\n",
    "        if mode != tf.estimator.ModeKeys.PREDICT:    \n",
    "            loss = tf.losses.mean_squared_error(labels, predictions)\n",
    "    \n",
    "        if mode == tf.estimator.ModeKeys.TRAIN:    \n",
    "            train_op = tf.contrib.layers.optimize_loss(\n",
    "              loss,\n",
    "              tf.contrib.framework.get_global_step(),\n",
    "              optimizer=optimizer,\n",
    "              learning_rate=learning_rate)\n",
    "        \n",
    "        return model_fn_lib.EstimatorSpec(mode,\n",
    "                                           predictions=predictions,\n",
    "                                           loss=loss,\n",
    "                                           train_op=train_op)\n",
    "    return model_fn"
   ]
  }
 ],
 "metadata": {
  "colab": {
   "default_view": {},
   "last_runtime": {
    "build_target": "//experimental/users/jamieas/transform_colab:notebook",
    "kind": "private"
   },
   "name": "Copy of CustomEstimator.ipynb",
   "provenance": [
    {
     "file_id": "0BwN-JPfIIHwgdFkwUTVIWTQwU00",
     "timestamp": 1496845355496
    }
   ],
   "version": "0.3.2",
   "views": {}
  },
  "kernelspec": {
   "display_name": "Python 2",
   "language": "python",
   "name": "python2"
  },
  "language_info": {
   "codemirror_mode": {
    "name": "ipython",
    "version": 3
   },
   "file_extension": ".py",
   "mimetype": "text/x-python",
   "name": "python",
   "nbconvert_exporter": "python",
   "pygments_lexer": "ipython3",
   "version": "3.4.3"
  }
 },
 "nbformat": 4,
 "nbformat_minor": 1
}
