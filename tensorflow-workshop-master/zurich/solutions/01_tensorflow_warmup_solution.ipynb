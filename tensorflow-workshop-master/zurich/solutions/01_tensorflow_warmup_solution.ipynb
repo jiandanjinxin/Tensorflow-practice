{
 "cells": [
  {
   "cell_type": "markdown",
   "metadata": {},
   "source": [
    "# TensorFlow warmup\n",
    "\n",
    "This is a notebook to get you started with TensorFlow."
   ]
  },
  {
   "cell_type": "code",
   "execution_count": null,
   "metadata": {
    "collapsed": true
   },
   "outputs": [],
   "source": [
    "import numpy as np\n",
    "import tensorflow as tf"
   ]
  },
  {
   "cell_type": "markdown",
   "metadata": {},
   "source": [
    "# Graph visualisation\n",
    "\n",
    "This is for visualizing a TF graph in an iPython notebook; the details are not interesting.\n",
    "(Borrowed from the [DeepDream iPython notebook](https://github.com/tensorflow/tensorflow/blob/master/tensorflow/examples/tutorials/deepdream/deepdream.ipynb))"
   ]
  },
  {
   "cell_type": "code",
   "execution_count": null,
   "metadata": {
    "collapsed": true
   },
   "outputs": [],
   "source": [
    "# This is for graph visualization.\n",
    "\n",
    "from IPython.display import clear_output, Image, display, HTML\n",
    "\n",
    "def strip_consts(graph_def, max_const_size=32):\n",
    "    \"\"\"Strip large constant values from graph_def.\"\"\"\n",
    "    strip_def = tf.GraphDef()\n",
    "    for n0 in graph_def.node:\n",
    "        n = strip_def.node.add() \n",
    "        n.MergeFrom(n0)\n",
    "        if n.op == 'Const':\n",
    "            tensor = n.attr['value'].tensor\n",
    "            size = len(tensor.tensor_content)\n",
    "            if size > max_const_size:\n",
    "                tensor.tensor_content = \"<stripped %d bytes>\"%size\n",
    "    return strip_def\n",
    "\n",
    "def show_graph(graph_def, max_const_size=32):\n",
    "    \"\"\"Visualize TensorFlow graph.\"\"\"\n",
    "    if hasattr(graph_def, 'as_graph_def'):\n",
    "        graph_def = graph_def.as_graph_def()\n",
    "    strip_def = strip_consts(graph_def, max_const_size=max_const_size)\n",
    "    code = \"\"\"\n",
    "        <script>\n",
    "          function load() {{\n",
    "            document.getElementById(\"{id}\").pbtxt = {data};\n",
    "          }}\n",
    "        </script>\n",
    "        <link rel=\"import\" href=\"https://tensorboard.appspot.com/tf-graph-basic.build.html\" onload=load()>\n",
    "        <div style=\"height:600px\">\n",
    "          <tf-graph-basic id=\"{id}\"></tf-graph-basic>\n",
    "        </div>\n",
    "    \"\"\".format(data=repr(str(strip_def)), id='graph'+str(np.random.rand()))\n",
    "\n",
    "    iframe = \"\"\"\n",
    "        <iframe seamless style=\"width:1200px;height:620px;border:0\" srcdoc=\"{}\"></iframe>\n",
    "    \"\"\".format(code.replace('\"', '&quot;'))\n",
    "    display(HTML(iframe))"
   ]
  },
  {
   "cell_type": "markdown",
   "metadata": {},
   "source": [
    "# The execution model\n",
    "\n",
    "TensorFlow allows you to specify graphs representing computations and provides a runtime for efficiently executing those graphs across a range of hardware.\n",
    "\n",
    "The graph nodes are Ops and the edges are Tensors.\n"
   ]
  },
  {
   "cell_type": "code",
   "execution_count": null,
   "metadata": {
    "collapsed": true
   },
   "outputs": [],
   "source": [
    "# This code only creates the graph. No computation is done yet.\n",
    "tf.reset_default_graph()\n",
    "x = tf.constant(7.0, name=\"x\")\n",
    "y = tf.add(x, tf.constant(2.0, name=\"y\"), name=\"add_op\")\n",
    "z = tf.subtract(x, tf.constant(2.0, name=\"z\"), name=\"sub_op\")\n",
    "w = tf.multiply(y, tf.constant(3.0)) # If no name is given, TF will chose a unique name for us.\n",
    "\n",
    "# Visualize the graph.\n",
    "show_graph(tf.get_default_graph().as_graph_def())"
   ]
  },
  {
   "cell_type": "markdown",
   "metadata": {},
   "source": [
    "## Ops\n",
    "\n",
    "* Every node in the computation graph corresponds to an op. tf.constant, tf.sub and tf.add are Ops.\n",
    "* There are many built-in Ops for low-level manipulation of numeric Tensors, e.g.:\n",
    "  * Arithmetic (with matrix and complex number support)\n",
    "  * Tensor operations (reshape, reduction, casting)\n",
    "  * Image manipulation (cropping, sizing, coloring, ...)\n",
    "  * Batching (arranging training examples into batches)\n",
    "\n",
    "* **Almost every object in TensorFlow is an op.** Even things that don't look like they are!\n",
    "  TensorFlow uses the op abstraction for a surprising range of things:\n",
    "\n",
    "    * Queues\n",
    "    * Variables\n",
    "    * Variable initializers\n",
    "\n",
    "  This can be confusing at first. For now, remember that because many things are Ops, some things have to be done in a somewhat non-obvious fashion.\n",
    "\n",
    "\n",
    "A list of TF Ops can be found at https://www.tensorflow.org/api_docs/python/."
   ]
  },
  {
   "cell_type": "markdown",
   "metadata": {},
   "source": [
    "## Tensors\n",
    "* x, y, w and z are **Tensors** - a description of a multidimensional array.\n",
    "* A Tensor is a symbolic handle to one of the outputs of an Operation. It does not hold the values of that operation's output, but instead provides a means of computing those values in a TensorFlow tf.Session.\n",
    "* Tensor shapes can usually be derived from the computation graph. This is called shape inference.\n",
    "  * For example, if you perform a matrix multiply of a [4,2] and a [2,3] Tensor,\n",
    "    then TensorFlow infers that the output Tensor has shape [4,3]."
   ]
  },
  {
   "cell_type": "code",
   "execution_count": null,
   "metadata": {
    "collapsed": true
   },
   "outputs": [],
   "source": [
    "# We can also use shorthand syntax\n",
    "# Notice the default names TF chooses for us.\n",
    "tf.reset_default_graph()\n",
    "x = tf.constant(7.0)\n",
    "y = x + 2\n",
    "z = x - 2\n",
    "w = y * 3\n",
    "\n",
    "# Visualize the graph.\n",
    "show_graph(tf.get_default_graph().as_graph_def())"
   ]
  },
  {
   "cell_type": "markdown",
   "metadata": {},
   "source": [
    "## Session\n",
    "* The actual computations are carried out in a Session.\n",
    "* Each session has exactly one graph, but it is completely valid to have multiple disconnected subgraphs in the same graph.\n",
    "* The same graph can be used to initialize two different Sessions, yielding two independent environments with independent states.\n",
    "* Unless specified otherwise, nodes and edges are added to the default graph.\n",
    "  * By default, a Session will use the default graph."
   ]
  },
  {
   "cell_type": "code",
   "execution_count": null,
   "metadata": {
    "collapsed": true
   },
   "outputs": [],
   "source": [
    "tf.reset_default_graph()\n",
    "x = tf.constant(7.0, name=\"x\")\n",
    "y = tf.add(x, tf.constant(2.0, name=\"y\"), name=\"add_op\")\n",
    "z = y * 3.0\n",
    "# Create a session, which is the context for running a graph.\n",
    "with tf.Session() as sess:\n",
    "    # When we call sess.run(y) the session is computing the value of Tensor y.\n",
    "    print(sess.run(y))\n",
    "    print(sess.run(z))\n"
   ]
  },
  {
   "cell_type": "markdown",
   "metadata": {},
   "source": [
    "## Variables\n",
    "* Variables maintain state in a Session across multiple calls to `Session.run()`.  \n",
    "* You add a variable to the graph by constructing an instance of the class `tf.Variable`.\n",
    "* For example, model parameters (weights and biases) are stored in Variables.\n",
    "  * We train the model with multiple calls to `Session.run()`, and each call updates the model parameters.\n",
    "* For more information on Variables see https://www.tensorflow.org/programmers_guide/variables"
   ]
  },
  {
   "cell_type": "code",
   "execution_count": null,
   "metadata": {
    "collapsed": true
   },
   "outputs": [],
   "source": [
    "tf.reset_default_graph()\n",
    "# tf.get_variable returns a tf.Variable object. Creating such objects directly\n",
    "# is possible, but does not have a sharing mechanism. Hence, tf.get_variable is\n",
    "# preferred.\n",
    "x = tf.get_variable(\"x\", shape=[], initializer=tf.zeros_initializer())\n",
    "\n",
    "assign_x = tf.assign(x, 10, name=\"assign_x\")\n",
    "z = tf.add(x, 1, name=\"z\")\n",
    "\n",
    "# Variables in TensorFlow need to be initialized first. The following op\n",
    "# conveniently takes care of that and initializes all variables.\n",
    "init = tf.global_variables_initializer()\n",
    "\n",
    "# Visualize the graph.\n",
    "show_graph(tf.get_default_graph().as_graph_def())"
   ]
  },
  {
   "cell_type": "markdown",
   "metadata": {},
   "source": [
    "# Placeholders\n",
    "\n",
    "So far you have seen Variables, but there is a more basic construct: the placeholder. A placeholder is simply a variable that we will assign data to at a later date. It allows us to create our operations and build our computation graph, without needing the data. In TensorFlow terminology, we then feed data into the graph through these placeholders."
   ]
  },
  {
   "cell_type": "code",
   "execution_count": null,
   "metadata": {
    "collapsed": true
   },
   "outputs": [],
   "source": [
    "tf.reset_default_graph()\n",
    "\n",
    "x = tf.placeholder(\"float\", None)\n",
    "y = x * 2\n",
    "\n",
    "# Visualize the graph.\n",
    "show_graph(tf.get_default_graph().as_graph_def())"
   ]
  },
  {
   "cell_type": "markdown",
   "metadata": {},
   "source": [
    "At execution time, we feed data into the graph using a feed_dict: for each placeholder, it contains the value we want to assign to it. This can be useful for batching up data, as you will see later."
   ]
  },
  {
   "cell_type": "code",
   "execution_count": null,
   "metadata": {
    "collapsed": true
   },
   "outputs": [],
   "source": [
    "with tf.Session() as session:\n",
    "    result = session.run(y, feed_dict={x: [1, 2, 3]})\n",
    "    print(result)"
   ]
  },
  {
   "cell_type": "markdown",
   "metadata": {},
   "source": [
    "* The variable we added represents a variable in the computational graph, **but is not an instance of the variable.**\n",
    "* The computational graph represents a program, and the variable will exist when we run the graph in a session.\n",
    "* The value of the variable is stored in the session.\n",
    "\n",
    "**Take a guess**: what is the output of the code below?"
   ]
  },
  {
   "cell_type": "code",
   "execution_count": null,
   "metadata": {
    "collapsed": true
   },
   "outputs": [],
   "source": [
    "with tf.Session() as sess:\n",
    "    # Assign an initial value to the instance of the variable in this session,\n",
    "    # determined by the initializer provided above.\n",
    "    sess.run(init)\n",
    "    print (sess.run(z))"
   ]
  },
  {
   "cell_type": "markdown",
   "metadata": {},
   "source": [
    "The output might surprise you: it's 1.0! The op `assign_x` is not a dependency of x or z, and hence is never evaluated.\n",
    "\n",
    "One way to solve this problem is:"
   ]
  },
  {
   "cell_type": "code",
   "execution_count": null,
   "metadata": {
    "collapsed": true
   },
   "outputs": [],
   "source": [
    "with tf.Session() as sess:\n",
    "    # When we create a new session we need to initialize all Variables again.\n",
    "    sess.run(init)\n",
    "    sess.run(assign_x)\n",
    "    print (sess.run(z))"
   ]
  },
  {
   "cell_type": "markdown",
   "metadata": {},
   "source": [
    "## Queues\n",
    "\n",
    "Queues are TensorFlow’s primitives for writing asynchronous code.\n",
    "\n",
    "* Queues provide Ops with queue semantics.\n",
    "* Queue Ops, like all Ops, need to be executed to do anything.\n",
    "* Are often used for asynchronously processing data (e.g., an input pipeline with data augmentation).\n",
    "* Queues are stateful graph nodes. The state is associated with a session.\n",
    "* There are several different types of queues, e.g., FIFOQueue and RandomShuffleQueue.\n",
    "\n",
    "See the [Threading and Queues](https://www.tensorflow.org/programmers_guide/threading_and_queues) for more details.\n",
    "\n",
    "Note: You probably will never need to directly use these low level implementations of queues yourself.\n",
    "Do note, however, that several important operations (for example, reading and batching) are implemented as queues. "
   ]
  },
  {
   "cell_type": "code",
   "execution_count": null,
   "metadata": {
    "collapsed": true
   },
   "outputs": [],
   "source": [
    "tf.reset_default_graph()\n",
    "q = tf.FIFOQueue(3, \"float\", name=\"q\")\n",
    "initial_enqueue = q.enqueue_many(([0., 0., 0.],), name=\"init\")\n",
    "\n",
    "x = q.dequeue()\n",
    "y = x + 1\n",
    "q_inc = q.enqueue([y])\n",
    "\n",
    "with tf.Session() as session:\n",
    "    session.run(initial_enqueue)\n",
    "    outputs = []\n",
    "    for _ in range(20):\n",
    "        _, y_val = session.run([q_inc, y])\n",
    "        outputs.append(y_val)\n",
    "    print(outputs)\n",
    "\n",
    "# Visualize the graph.\n",
    "show_graph(tf.get_default_graph().as_graph_def())"
   ]
  },
  {
   "cell_type": "markdown",
   "metadata": {},
   "source": [
    "# Exercise: Collatz Conjecture\n",
    "And now some fun! Collatz conjecture states that after applying the following rule\n",
    "\n",
    "# $f(n) = \\begin{cases} n/2 &\\text{if } n \\equiv 0 \\pmod{2},\\\\ 3n+1 & \\text{if } n\\equiv 1 \\pmod{2} .\\end{cases}$\n",
    "\n",
    "a finite number of times to a given number, we will end up at $1$ (cf. https://xkcd.com/710/).\n",
    " \n",
    "Implement the checking routine in TensorFlow (i.e. implement some code that given a number, checks that it satisfies Collatz conjecture).\n",
    "Bonus: use a queue."
   ]
  },
  {
   "cell_type": "code",
   "execution_count": null,
   "metadata": {
    "collapsed": true
   },
   "outputs": [],
   "source": [
    "tf.reset_default_graph()\n",
    "\n",
    "number_to_check = 29\n",
    "\n",
    "# Define graph.\n",
    "a = tf.Variable(number_to_check, dtype=tf.int32)\n",
    "pred = tf.equal(0, tf.mod(a, 2))\n",
    "b = tf.cast(\n",
    "        tf.cond(\n",
    "            pred,\n",
    "            lambda: tf.div(a, 2),\n",
    "            lambda: tf.add(tf.multiply(a, 3), 1)),\n",
    "        tf.int32)\n",
    "assign_op = tf.assign(a, b)\n",
    "\n",
    "with tf.Session() as session:\n",
    "  # 1. Implement graph execution.\n",
    "  pass"
   ]
  },
  {
   "cell_type": "code",
   "execution_count": null,
   "metadata": {
    "collapsed": true
   },
   "outputs": [],
   "source": [
    "# Simple solution without queue.\n",
    "\n",
    "tf.reset_default_graph()\n",
    "\n",
    "number_to_check = 29\n",
    "\n",
    "# Define graph.\n",
    "a = tf.Variable(number_to_check, dtype=tf.int32)\n",
    "pred = tf.equal(0, tf.mod(a, 2))\n",
    "b = tf.cast(\n",
    "        tf.cond(\n",
    "            pred,\n",
    "            lambda: tf.div(a, 2),\n",
    "            lambda: tf.add(tf.multiply(a, 3), 1)),\n",
    "        tf.int32)\n",
    "assign_op = tf.assign(a, b)\n",
    "\n",
    "with tf.Session() as session:\n",
    "    session.run(tf.global_variables_initializer())\n",
    "    print(session.run(a))\n",
    "\n",
    "    _, b_val = session.run([assign_op, b])\n",
    "    print(b_val)\n",
    "\n",
    "    while (b_val != 1):\n",
    "        _, b_val = session.run([assign_op, b])\n",
    "        print(b_val)"
   ]
  },
  {
   "cell_type": "code",
   "execution_count": null,
   "metadata": {
    "collapsed": true
   },
   "outputs": [],
   "source": [
    "# Solution with queue.\n",
    "\n",
    "tf.reset_default_graph()\n",
    "\n",
    "number_to_check = 29\n",
    "\n",
    "# Define graph.\n",
    "q = tf.FIFOQueue(3, tf.int32, name=\"q\")\n",
    "initial_enqueue = q.enqueue(number_to_check)\n",
    "a = q.dequeue()\n",
    "pred = tf.equal(0, tf.mod(a, 2))\n",
    "b = tf.cast(tf.cond(pred,\n",
    "                    lambda: tf.div(a, 2),\n",
    "                    lambda: tf.add(tf.multiply(a, 3), 1)),\n",
    "            tf.int32)\n",
    "q_op = q.enqueue([b])\n",
    "\n",
    "with tf.Session() as session:\n",
    "    session.run(initial_enqueue)\n",
    "\n",
    "    _, a_val, b_val = session.run([q_op, a, b])\n",
    "    print(a_val)\n",
    "    print(b_val)\n",
    "\n",
    "    while (b_val != 1):\n",
    "        _, b_val = session.run([q_op, b])\n",
    "        print(b_val)\n"
   ]
  }
 ],
 "metadata": {
  "kernelspec": {
   "display_name": "Python 2",
   "language": "python",
   "name": "python2"
  },
  "language_info": {
   "codemirror_mode": {
    "name": "ipython",
    "version": 2
   },
   "file_extension": ".py",
   "mimetype": "text/x-python",
   "name": "python",
   "nbconvert_exporter": "python",
   "pygments_lexer": "ipython2",
   "version": "2.7.12"
  }
 },
 "nbformat": 4,
 "nbformat_minor": 2
}
